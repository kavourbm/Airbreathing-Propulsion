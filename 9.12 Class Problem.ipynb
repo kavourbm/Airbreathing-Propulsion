{
 "cells": [
  {
   "cell_type": "code",
   "execution_count": 1,
   "metadata": {},
   "outputs": [],
   "source": [
    "U1 = 100 # m/s\n",
    "T1 = 302 # K\n",
    "P1 = 190 # KPa\n",
    "\n",
    "U2 = 60 # m/s"
   ]
  },
  {
   "cell_type": "code",
   "execution_count": 2,
   "metadata": {},
   "outputs": [
    {
     "name": "stdout",
     "output_type": "stream",
     "text": [
      "1.0048500000000002\n",
      "303.46470000000005\n"
     ]
    }
   ],
   "source": [
    "# find h1\n",
    "\n",
    "# c_p = (gamma*R)/(gamma-1)\n",
    "# h = u + P/rho = c_p * T\n",
    "gamma = 1.4\n",
    "R = .2871\n",
    "c_p = (gamma*R)/(gamma-1)\n",
    "print(c_p)\n",
    "h1 = c_p*T1\n",
    "print(h1)"
   ]
  },
  {
   "cell_type": "code",
   "execution_count": 3,
   "metadata": {},
   "outputs": [
    {
     "name": "stdout",
     "output_type": "stream",
     "text": [
      "3503.4647000000004\n"
     ]
    }
   ],
   "source": [
    "# find h2\n",
    "\n",
    "# h1 + (u1^2)/2 = h2 + (u2^2)/2\n",
    "# h1 + (u1^2)/2 - (u2^2)/2 = h2\n",
    "\n",
    "h2 = h1 + (U1**2)/2 - (U2**2)/2\n",
    "print(h2)"
   ]
  }
 ],
 "metadata": {
  "kernelspec": {
   "display_name": "Python 3",
   "language": "python",
   "name": "python3"
  },
  "language_info": {
   "codemirror_mode": {
    "name": "ipython",
    "version": 3
   },
   "file_extension": ".py",
   "mimetype": "text/x-python",
   "name": "python",
   "nbconvert_exporter": "python",
   "pygments_lexer": "ipython3",
   "version": "3.11.3"
  },
  "orig_nbformat": 4
 },
 "nbformat": 4,
 "nbformat_minor": 2
}
