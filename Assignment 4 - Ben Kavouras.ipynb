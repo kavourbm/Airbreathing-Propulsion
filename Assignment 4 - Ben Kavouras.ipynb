{
 "cells": [
  {
   "cell_type": "code",
   "execution_count": 1,
   "metadata": {},
   "outputs": [],
   "source": [
    "import numpy as np\n",
    "import matplotlib.pyplot as plt\n",
    "%matplotlib inline"
   ]
  },
  {
   "cell_type": "markdown",
   "metadata": {},
   "source": [
    "# 1\n",
    "Calculate the molecular weight Air and Dodecane (C<sub>12</sub>H<sub>26</sub>). Calculate the fuel/air ratio ($ \\dot{m}_{f}/\\dot{m}_{a} $) and number of moles of air (required if combustion of C<sub>12</sub>H<sub>26</sub> + Air results in a 1,150 K temperature rise in air entering the combustor with $ c_p = 1.080 \\frac{kJ}{kg K} $. Use the $ LHV = Q_{net,p} $ for C<sub>12</sub>H<sub>26</sub> from p. 286 in your book.)"
   ]
  },
  {
   "cell_type": "markdown",
   "metadata": {},
   "source": [
    "Atomic Weight of Carbon: 12.0096 amu \\\n",
    "Atomic Weight of Hydrogen: 1.008 amu \n",
    "\n",
    "Atomic Weight of Oxygen: 15.999 amu \\\n",
    "Atmoic Weight of Nitrogen: 14.0064 amu "
   ]
  },
  {
   "cell_type": "code",
   "execution_count": 2,
   "metadata": {},
   "outputs": [
    {
     "name": "stdout",
     "output_type": "stream",
     "text": [
      "The Molecular Weight of Dodecane is 170.32 AMU\n",
      "The Molecular Weight of Air is 137.33 AMU\n"
     ]
    }
   ],
   "source": [
    "# Molecular Weights\n",
    "\n",
    "C = 12.0096\n",
    "H = 1.008\n",
    "O = 15.999\n",
    "N = 14.0064\n",
    "\n",
    "Dodecane = (C*12)+(H*26)\n",
    "Air = (O*2)+(3.76*2*N)\n",
    "\n",
    "print(\"The Molecular Weight of Dodecane is %3.2f AMU\" % (Dodecane))\n",
    "print(\"The Molecular Weight of Air is %3.2f AMU\" % (Air))"
   ]
  },
  {
   "cell_type": "code",
   "execution_count": null,
   "metadata": {},
   "outputs": [],
   "source": []
  },
  {
   "cell_type": "markdown",
   "metadata": {},
   "source": [
    "# 2\n",
    "Write the chemical balance for $ \\phi = 1 $ & $ \\phi = 0.5 $, solve for the moles of each species, and compute the fuel/air ($ \\dot{m}_{f}/\\dot{m}_{a} $) and air/fuel ($ \\dot{m}_{a}/\\dot{m}_{f} $) ratio for:\n",
    "1. Propane (C<sub>3</sub>H<sub>8</sub>) + Air\n",
    "2. Decane (C<sub>10</sub>H<sub>22</sub>) + Air"
   ]
  },
  {
   "cell_type": "code",
   "execution_count": null,
   "metadata": {},
   "outputs": [],
   "source": []
  },
  {
   "cell_type": "markdown",
   "metadata": {},
   "source": [
    "# 3\n",
    "The overall pressure loss factor of a combustion chamber may be assumed to vary with the temperature ratio according to the law $ \\frac{\\Delta p_0}{{\\dot{m}_{a}}^{2}/2\\rho_{1}{A_m}^2} = K_1 + K_2 [\\frac{T_{02}}{T_{01}} -1] $. For a particular chamber having an inlet area of 0.0389 m<sup>2</sup>, cold loss tests show that $ K_1 $ has the value of 19.0. When tested under design conditions the following reading were obtained:\n",
    "\n",
    "| Item | Dimension |\n",
    "| --- | --- |\n",
    "| Air mass flow $ \\dot{m}_a $ | 9.0 kg/s |\n",
    "| Inlet stagnation temperature $ T_{01} $ | 475 K |\n",
    "| Outlet stagnation temperature $ T_{02} $ | 1023 K |\n",
    "| Inlet static pressure $ p_1 $ | 4.47 bar |\n",
    "| Stagnation pressure loss $ \\Delta p_0 $ | 0.27 bar |\n",
    "\n",
    "Estimate the pressure loss at a part-load condition for which $ \\dot{m}_a $ is 7.40 kg/s, $ T_{01} $ is 439 K, $ T_{02} $ is 900 K and $ p_1 $ is 3.52 bar. \\\n",
    "Also, for these two operating conditions compare the values of (a) the velocity at inlet to the chamber and (b) the pressure loss as a fraction of the inlet stagnation (i.e. compressor delivery) pressure, and comment on the result."
   ]
  }
 ],
 "metadata": {
  "kernelspec": {
   "display_name": "Python 3",
   "language": "python",
   "name": "python3"
  },
  "language_info": {
   "codemirror_mode": {
    "name": "ipython",
    "version": 3
   },
   "file_extension": ".py",
   "mimetype": "text/x-python",
   "name": "python",
   "nbconvert_exporter": "python",
   "pygments_lexer": "ipython3",
   "version": "3.12.0"
  }
 },
 "nbformat": 4,
 "nbformat_minor": 2
}
