{
 "cells": [
  {
   "cell_type": "code",
   "execution_count": 700,
   "metadata": {},
   "outputs": [],
   "source": [
    "import numpy as np\n",
    "import matplotlib.pyplot as plt\n",
    "%matplotlib inline"
   ]
  },
  {
   "cell_type": "markdown",
   "metadata": {},
   "source": [
    "# 1\n",
    "Calculate the molecular weight Air and Dodecane (C<sub>12</sub>H<sub>26</sub>). Calculate the fuel/air ratio ($ \\dot{m}_{f}/\\dot{m}_{a} $) and number of moles of air (required if combustion of C<sub>12</sub>H<sub>26</sub> + Air results in a 1,150 K temperature rise in air entering the combustor with $ c_p = 1.080 \\frac{kJ}{kg K} $. Use the $ LHV = Q_{net,p} $ for C<sub>12</sub>H<sub>26</sub> from p. 286 in your book.)"
   ]
  },
  {
   "cell_type": "markdown",
   "metadata": {},
   "source": [
    "Atomic Weight of Carbon: 12.0096 amu \\\n",
    "Atomic Weight of Hydrogen: 1.008 amu \n",
    "\n",
    "Atomic Weight of Oxygen: 15.999 amu \\\n",
    "Atmoic Weight of Nitrogen: 14.0064 amu "
   ]
  },
  {
   "cell_type": "code",
   "execution_count": 701,
   "metadata": {},
   "outputs": [
    {
     "name": "stdout",
     "output_type": "stream",
     "text": [
      "The Molecular Weight of Dodecane is 170.32 AMU\n",
      "The Molecular Weight of Air is 137.33 AMU\n"
     ]
    }
   ],
   "source": [
    "# Molecular Weights\n",
    "\n",
    "C = 12.0096\n",
    "H = 1.008\n",
    "O = 15.999\n",
    "N = 14.0064\n",
    "\n",
    "Dodecane = (C*12)+(H*26)\n",
    "Air = (O*2)+(3.76*2*N)\n",
    "\n",
    "print(\"The Molecular Weight of Dodecane is %3.2f AMU\" % (Dodecane))\n",
    "print(\"The Molecular Weight of Air is %3.2f AMU\" % (Air))"
   ]
  },
  {
   "cell_type": "markdown",
   "metadata": {},
   "source": [
    "$ f Q_{net,p} = c_p \\Delta T \\\\\n",
    "f = \\frac{c_p \\Delta T}{Q_{net,p}} $"
   ]
  },
  {
   "cell_type": "code",
   "execution_count": 702,
   "metadata": {},
   "outputs": [
    {
     "name": "stdout",
     "output_type": "stream",
     "text": [
      "The Fuel-Air Ratio is 0.028\n"
     ]
    }
   ],
   "source": [
    "Qnetp = 44147\n",
    "DeltaT = 1150\n",
    "cp = 1.080\n",
    "\n",
    "f = (cp*DeltaT)/Qnetp\n",
    "\n",
    "print(\"The Fuel-Air Ratio is %3.3f\" % (f))"
   ]
  },
  {
   "cell_type": "markdown",
   "metadata": {},
   "source": [
    "$ f =\\frac{7n+1}{34.32(3n+1)} \\\\\n",
    "34.32f(3n+1) =7n+1 \\\\\n",
    "102.96fn+34.32 =7n+1 \\\\\n",
    "102.96fn =7n-33.32 \\\\\n",
    "102.96fn -7n =-33.32 \\\\\n",
    "n(102.96f -7) =-33.32 \\\\\n",
    "n =\\frac{-33.32}{102.96f -7} $"
   ]
  },
  {
   "cell_type": "markdown",
   "metadata": {},
   "source": [
    "$ (\\frac{3n+1}{2})(O_2 +3.76N_2) $"
   ]
  },
  {
   "cell_type": "code",
   "execution_count": 703,
   "metadata": {},
   "outputs": [
    {
     "name": "stdout",
     "output_type": "stream",
     "text": [
      "12.68 Moles of air are required\n"
     ]
    }
   ],
   "source": [
    "n = -33.32/(102.96*f-7)\n",
    "\n",
    "print(\"%3.2f Moles of air are required\" % (((3*n)+1)/2))"
   ]
  },
  {
   "cell_type": "markdown",
   "metadata": {},
   "source": [
    "# 2\n",
    "Write the chemical balance for $ \\phi = 1 $ & $ \\phi = 0.5 $, solve for the moles of each species, and compute the fuel/air ($ \\dot{m}_{f}/\\dot{m}_{a} $) and air/fuel ($ \\dot{m}_{a}/\\dot{m}_{f} $) ratio for:\n",
    "1. Propane (C<sub>3</sub>H<sub>8</sub>) + Air\n",
    "2. Decane (C<sub>10</sub>H<sub>22</sub>) + Air"
   ]
  },
  {
   "cell_type": "markdown",
   "metadata": {},
   "source": [
    "For $ \\phi = 1 $: \\\n",
    "$ C_x H_y +(x+\\frac{y}{4})(O_2 +3.76 N_2) \\rightarrow xCO_2 + (\\frac{y}{2})H_2 O +3.76(x+\\frac{y}{4})N_2 $"
   ]
  },
  {
   "cell_type": "markdown",
   "metadata": {},
   "source": [
    "For 1 mole of Propane: \\\n",
    "$\n",
    "x = 3 \\\\\n",
    "y = 8\n",
    "$"
   ]
  },
  {
   "cell_type": "code",
   "execution_count": 704,
   "metadata": {},
   "outputs": [
    {
     "name": "stdout",
     "output_type": "stream",
     "text": [
      "5.0 moles of air needed for a stoichiometric reaction\n",
      "This will produce:\n",
      "3.0 moles of Carbon Dioxide\n",
      "4.0 moles of Water\n",
      "18.8 moles of Nitrogen Gas\n",
      "1(C3H8) + 5.0(O2+3.76N2) -> 3.0(CO2) + 4.0(H2O) + 18.8(N2)\n"
     ]
    }
   ],
   "source": [
    "# Propane\n",
    "\n",
    "xpro = 3\n",
    "ypro = 8\n",
    "\n",
    "airpro1 = xpro+(ypro/4)\n",
    "\n",
    "print(\"%3.1f moles of air needed for a stoichiometric reaction\" % (airpro1))\n",
    "print(\"This will produce:\")\n",
    "\n",
    "print(\"%3.1f moles of Carbon Dioxide\" % (xpro))\n",
    "print(\"%3.1f moles of Water\" % (ypro/2))\n",
    "print(\"%3.1f moles of Nitrogen Gas\" % (3.76*airpro1))\n",
    "print(\"1(C%1dH%1d) + %3.1f(O2+3.76N2) -> %3.1f(CO2) + %3.1f(H2O) + %3.1f(N2)\" % (xpro,ypro,airpro1,xpro,ypro/2,3.76*airpro1))"
   ]
  },
  {
   "cell_type": "code",
   "execution_count": 705,
   "metadata": {},
   "outputs": [
    {
     "name": "stdout",
     "output_type": "stream",
     "text": [
      "15.5 moles of air needed for a stoichiometric reaction\n",
      "This will produce:\n",
      "10.0 moles of Carbon Dioxide\n",
      "11.0 moles of Water\n",
      "58.3 moles of Nitrogen Gas\n",
      "1(C10H22) + 15.5(O2+3.76N2) -> 10.0(CO2) + 11.0(H2O) + 58.3(N2)\n"
     ]
    }
   ],
   "source": [
    "# Decane\n",
    "\n",
    "xdec = 10\n",
    "ydec = 22\n",
    "\n",
    "airdec1 = xdec+(ydec/4)\n",
    "\n",
    "print(\"%3.1f moles of air needed for a stoichiometric reaction\" % (airdec1))\n",
    "print(\"This will produce:\")\n",
    "\n",
    "print(\"%3.1f moles of Carbon Dioxide\" % (xdec))\n",
    "print(\"%3.1f moles of Water\" % (ydec/2))\n",
    "print(\"%3.1f moles of Nitrogen Gas\" % (3.76*airdec1))\n",
    "print(\"1(C%1dH%1d) + %3.1f(O2+3.76N2) -> %3.1f(CO2) + %3.1f(H2O) + %3.1f(N2)\" % (xdec,ydec,airdec1,xdec,ydec/2,3.76*airdec1))"
   ]
  },
  {
   "cell_type": "markdown",
   "metadata": {},
   "source": [
    "For $ \\phi = 0.5 $ \\\n",
    "$ C_x H_y +X(x+\\frac{y}{4})(O_2 +3.76 N_2) \\rightarrow xCO_2 + (\\frac{y}{2})H_2 O +3.76X(x+\\frac{y}{4})N_2 +(X-1)(x+\\frac{y}{4})O_2 \\\\\n",
    "X =\\frac{1}{\\phi}$"
   ]
  },
  {
   "cell_type": "code",
   "execution_count": 706,
   "metadata": {},
   "outputs": [
    {
     "name": "stdout",
     "output_type": "stream",
     "text": [
      "10.0 moles of air needed for a lean reaction\n",
      "This will produce:\n",
      "3.0 moles of Carbon Dioxide\n",
      "4.0 moles of Water\n",
      "37.6 moles of Nitrogen Gas\n",
      "5.0 moles of Oxygen Gas\n",
      "1(C3H8) + 10.0(O2+3.76N2) -> 3.0(CO2) + 4.0(H2O) + 37.6(N2) + 5.0(O2)\n"
     ]
    }
   ],
   "source": [
    "# Propane\n",
    "\n",
    "X = 1/.5\n",
    "\n",
    "airpro5 = X*(xpro+(ypro/4))\n",
    "\n",
    "print(\"%3.1f moles of air needed for a lean reaction\" % (airpro5))\n",
    "print(\"This will produce:\")\n",
    "\n",
    "print(\"%3.1f moles of Carbon Dioxide\" % (xpro))\n",
    "print(\"%3.1f moles of Water\" % (ypro/2))\n",
    "print(\"%3.1f moles of Nitrogen Gas\" % (3.76*airpro5))\n",
    "print(\"%3.1f moles of Oxygen Gas\" % ((X-1)*(xpro+(ypro/4))))\n",
    "print(\"1(C%1dH%1d) + %3.1f(O2+3.76N2) -> %3.1f(CO2) + %3.1f(H2O) + %3.1f(N2) + %3.1f(O2)\" % (xpro,ypro,airpro5,xpro,ypro/2,3.76*airpro5,(X-1)*(xpro+(ypro/4))))"
   ]
  },
  {
   "cell_type": "code",
   "execution_count": 707,
   "metadata": {},
   "outputs": [
    {
     "name": "stdout",
     "output_type": "stream",
     "text": [
      "31.0 moles of air needed for a lean reaction\n",
      "This will produce:\n",
      "10.0 moles of Carbon Dioxide\n",
      "11.0 moles of Water\n",
      "116.6 moles of Nitrogen Gas\n",
      "15.5 moles of Oxygen Gas\n",
      "1(C10H22) + 31.0(O2+3.76N2) -> 10.0(CO2) + 11.0(H2O) + 116.6(N2) + 15.5(O2)\n"
     ]
    }
   ],
   "source": [
    "# Decane\n",
    "\n",
    "airdec5 = X*(xdec+(ydec/4))\n",
    "\n",
    "print(\"%3.1f moles of air needed for a lean reaction\" % (airdec5))\n",
    "print(\"This will produce:\")\n",
    "\n",
    "print(\"%3.1f moles of Carbon Dioxide\" % (xdec))\n",
    "print(\"%3.1f moles of Water\" % (ydec/2))\n",
    "print(\"%3.1f moles of Nitrogen Gas\" % (3.76*airdec5))\n",
    "print(\"%3.1f moles of Oxygen Gas\" % ((X-1)*(xdec+(ydec/4))))\n",
    "print(\"1(C%1dH%1d) + %3.1f(O2+3.76N2) -> %3.1f(CO2) + %3.1f(H2O) + %3.1f(N2) + %3.1f(O2)\" % (xdec,ydec,airdec5,xdec,ydec/2,3.76*airdec5,(X-1)*(xdec+(ydec/4))))"
   ]
  },
  {
   "cell_type": "markdown",
   "metadata": {},
   "source": [
    "$\n",
    "f = \\frac{W_c N_c + W_H N_H}{W_{O_2} N_{O_2} + W_{N_2} N_{N_2}} \\\\\n",
    "\\frac{A}{F} = \\frac{1}{f}\n",
    "$"
   ]
  },
  {
   "cell_type": "code",
   "execution_count": 708,
   "metadata": {},
   "outputs": [
    {
     "name": "stdout",
     "output_type": "stream",
     "text": [
      "The Fuel-Air Ratio of the Stoichiometric Air reaction is 0.06\n",
      "The Air-Fuel Ratio of the Stoichiometric Air reaction is 15.57\n",
      "The Fuel-Air Ratio of the Lean Air reaction is 0.03\n",
      "The Air-Fuel Ratio of the Lean Air reaction is 31.14\n"
     ]
    }
   ],
   "source": [
    "# Ratios Propane\n",
    "\n",
    "fpro1 = ((12.011*(xpro))+(1.008*(ypro)))/((15.999*2*(airpro1))+(14.007*2*(airpro1*3.76)))\n",
    "\n",
    "print(\"The Fuel-Air Ratio of the Stoichiometric Air reaction is %3.2f\" % (fpro1))\n",
    "print(\"The Air-Fuel Ratio of the Stoichiometric Air reaction is %3.2f\" % (1/fpro1))\n",
    "\n",
    "fpro5 = ((12.011*(xpro))+(1.008*(ypro)))/((15.999*2*(airpro5))+(14.007*2*(airpro5*3.76)))\n",
    "\n",
    "print(\"The Fuel-Air Ratio of the Lean Air reaction is %3.2f\" % (fpro5))\n",
    "print(\"The Air-Fuel Ratio of the Lean Air reaction is %3.2f\" % (1/fpro5))"
   ]
  },
  {
   "cell_type": "code",
   "execution_count": 709,
   "metadata": {},
   "outputs": [
    {
     "name": "stdout",
     "output_type": "stream",
     "text": [
      "The Fuel-Air Ratio of the Stoichiometric Air reaction is 0.07\n",
      "The Air-Fuel Ratio of the Stoichiometric Air reaction is 14.96\n",
      "The Fuel-Air Ratio of the Lean Air reaction is 0.03\n",
      "The Air-Fuel Ratio of the Lean Air reaction is 29.92\n"
     ]
    }
   ],
   "source": [
    "# Ratios Decane\n",
    "\n",
    "fdec1 = ((12.011*(xdec))+(1.008*(ydec)))/((15.999*2*(airdec1))+(14.007*2*(airdec1*3.76)))\n",
    "\n",
    "print(\"The Fuel-Air Ratio of the Stoichiometric Air reaction is %3.2f\" % (fdec1))\n",
    "print(\"The Air-Fuel Ratio of the Stoichiometric Air reaction is %3.2f\" % (1/fdec1))\n",
    "\n",
    "fdec5 = ((12.011*(xdec))+(1.008*(ydec)))/((15.999*2*(airdec5))+(14.007*2*(airdec5*3.76)))\n",
    "\n",
    "print(\"The Fuel-Air Ratio of the Lean Air reaction is %3.2f\" % (fdec5))\n",
    "print(\"The Air-Fuel Ratio of the Lean Air reaction is %3.2f\" % (1/fdec5))"
   ]
  },
  {
   "cell_type": "markdown",
   "metadata": {},
   "source": [
    "# 3\n",
    "The overall pressure loss factor of a combustion chamber may be assumed to vary with the temperature ratio according to the law $ \\frac{\\Delta p_0}{{\\dot{m}_{a}}^{2}/2\\rho_{1}{A_m}^2} = K_1 + K_2 [\\frac{T_{02}}{T_{01}} -1] $. For a particular chamber having an inlet area of 0.0389 m<sup>2</sup> and a maximum cross-sectional area $ A_m $ of 0.0975 m<sup>2</sup>, cold loss tests show that $ K_1 $ has the value of 19.0. When tested under design conditions the following reading were obtained:\n",
    "\n",
    "| Item | Dimension |\n",
    "| --- | --- |\n",
    "| Air mass flow $ \\dot{m}_a $ | 9.0 kg/s |\n",
    "| Inlet stagnation temperature $ T_{01} $ | 475 K |\n",
    "| Outlet stagnation temperature $ T_{02} $ | 1023 K |\n",
    "| Inlet static pressure $ p_1 $ | 4.47 bar |\n",
    "| Stagnation pressure loss $ \\Delta p_0 $ | 0.27 bar |\n",
    "\n",
    "Estimate the pressure loss at a part-load condition for which $ \\dot{m}_a $ is 7.40 kg/s, $ T_{01} $ is 439 K, $ T_{02} $ is 900 K and $ p_1 $ is 3.52 bar. \\\n",
    "Also, for these two operating conditions compare the values of (a) the velocity at inlet to the chamber and (b) the pressure loss as a fraction of the inlet stagnation (i.e. compressor delivery) pressure, and comment on the result."
   ]
  },
  {
   "cell_type": "markdown",
   "metadata": {},
   "source": [
    "$ \\frac{\\Delta p_0}{{\\dot{m}_{a}}^{2}/2\\rho_{1}{A_m}^2} = K_1 + K_2 [\\frac{T_{02}}{T_{01}} -1] \\\\\n",
    "\\frac{\\Delta p_0}{{\\dot{m}_{a}}^{2}/2\\rho_{1}{A_m}^2} - K_1 = K_2 [\\frac{T_{02}}{T_{01}} -1] \\\\ \n",
    "(\\frac{\\Delta p_0}{{\\dot{m}_{a}}^{2}/2\\rho_{1}{A_m}^2} - K_1)(1/[\\frac{T_{02}}{T_{01}} -1]) = K_2 $"
   ]
  },
  {
   "cell_type": "code",
   "execution_count": 710,
   "metadata": {},
   "outputs": [
    {
     "name": "stdout",
     "output_type": "stream",
     "text": [
      "K2 = 1.54\n"
     ]
    }
   ],
   "source": [
    "# Solving K1\n",
    "\n",
    "ploss1 = 0.27*100000 # Pa\n",
    "ma1 = 9.0 # kg/s\n",
    "p11 = 4.47*100000 # Pa\n",
    "T011 = 475 # K \n",
    "T021 = 1023 # K\n",
    "indensity1 = p11/(287*T011)\n",
    "Am = 0.0975 # m^2\n",
    "K1 = 19.0\n",
    "\n",
    "K2 = ((ploss1)/((ma1**2)/(2*indensity1*(Am**2)))-K1)*(1/((T021/T011)-1))\n",
    "\n",
    "print(\"K2 = %3.2f\" % (K2))"
   ]
  },
  {
   "cell_type": "markdown",
   "metadata": {},
   "source": [
    "$ \\frac{\\Delta p_0}{{\\dot{m}_{a}}^{2}/2\\rho_{1}{A_m}^2} = K_1 + K_2 [\\frac{T_{02}}{T_{01}} -1] \\\\\n",
    "\\Delta p_0 = (K_1 + K_2 [\\frac{T_{02}}{T_{01}} -1])({\\dot{m}_{a}}^{2}/2\\rho_{1}{A_m}^2) $"
   ]
  },
  {
   "cell_type": "code",
   "execution_count": 711,
   "metadata": {},
   "outputs": [
    {
     "name": "stdout",
     "output_type": "stream",
     "text": [
      "The Pressure Loss in Case 2 is 0.213 bar\n"
     ]
    }
   ],
   "source": [
    "ma2 = 7.40 # kg/s\n",
    "p12 = 3.52*100000 # Pa\n",
    "T012 = 439 # K \n",
    "T022 = 900 # K\n",
    "indensity2 = p12/(287*T012)\n",
    "\n",
    "ploss2 = (K1+(K2*((T022/T012)-1)))*((ma2**2)/(2*indensity2*(Am**2)))\n",
    "\n",
    "print(\"The Pressure Loss in Case 2 is %3.3f bar\" % (ploss2/100000))"
   ]
  },
  {
   "cell_type": "markdown",
   "metadata": {},
   "source": [
    "$ \\frac{p_{01}-p_{02}}{\\rho_1 C_1 / 2} = (\\frac{T_{02}}{T_{01}} -1) \\\\\n",
    "p_{01}-p_{02} = \\Delta p_0 \\\\\n",
    "\\frac{1}{\\rho_1 C_1 / 2} = \\frac{(\\frac{T_{02}}{T_{01}} -1)}{p_{01}-p_{02}} \\\\\n",
    "\\frac{\\rho_1 C_1}{2} = \\frac{p_{01}-p_{02}}{(\\frac{T_{02}}{T_{01}} -1)} \\\\\n",
    "\\rho_1 C_1 = 2 \\frac{p_{01}-p_{02}}{(\\frac{T_{02}}{T_{01}} -1)} \\\\\n",
    "C_1 = \\frac{2}{\\rho_1} \\frac{p_{01}-p_{02}}{(\\frac{T_{02}}{T_{01}} -1)} $"
   ]
  },
  {
   "cell_type": "code",
   "execution_count": 712,
   "metadata": {},
   "outputs": [
    {
     "name": "stdout",
     "output_type": "stream",
     "text": [
      "Inlet Velocty 1 is 71.375 m/s\n",
      "Inlet Velocty 2 is 72.459 m/s\n"
     ]
    }
   ],
   "source": [
    "# Inlet Velocity\n",
    "\n",
    "C11 = (2/indensity1)*((ploss1)/((T021)/(T011)-1))*1/200\n",
    "\n",
    "print(\"Inlet Velocty 1 is %3.3f m/s\" % (C11))\n",
    "\n",
    "C12 = (2/indensity2)*((ploss2)/((T022)/(T012)-1))*1/200\n",
    "\n",
    "print(\"Inlet Velocty 2 is %3.3f m/s\" % (C12))"
   ]
  },
  {
   "cell_type": "markdown",
   "metadata": {},
   "source": [
    "$ p_0 = p+\\frac{\\rho C^2}{2} $"
   ]
  },
  {
   "cell_type": "code",
   "execution_count": 713,
   "metadata": {},
   "outputs": [
    {
     "name": "stdout",
     "output_type": "stream",
     "text": [
      "Pressure loss 1 as a fraction of inlet stagnation pressure: 0.0593\n",
      "Pressure loss 2 as a fraction of inlet stagnation pressure: 0.0592\n"
     ]
    }
   ],
   "source": [
    "p011 = p11+(indensity1*(C11**2))/2\n",
    "\n",
    "print(\"Pressure loss 1 as a fraction of inlet stagnation pressure: %4.4f\" % (ploss1/p011))\n",
    "\n",
    "p012 = p12+(indensity2*(C12**2))/2\n",
    "\n",
    "print(\"Pressure loss 2 as a fraction of inlet stagnation pressure: %4.4f\" % (ploss2/p012))"
   ]
  }
 ],
 "metadata": {
  "kernelspec": {
   "display_name": "Python 3",
   "language": "python",
   "name": "python3"
  },
  "language_info": {
   "codemirror_mode": {
    "name": "ipython",
    "version": 3
   },
   "file_extension": ".py",
   "mimetype": "text/x-python",
   "name": "python",
   "nbconvert_exporter": "python",
   "pygments_lexer": "ipython3",
   "version": "3.12.0"
  }
 },
 "nbformat": 4,
 "nbformat_minor": 2
}
