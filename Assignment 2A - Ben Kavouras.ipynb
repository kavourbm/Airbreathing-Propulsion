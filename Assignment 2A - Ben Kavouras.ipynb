{
 "cells": [
  {
   "cell_type": "code",
   "execution_count": 829,
   "metadata": {},
   "outputs": [],
   "source": [
    "import numpy as np\n",
    "import matplotlib.pyplot as plt\n",
    "%matplotlib inline"
   ]
  },
  {
   "cell_type": "markdown",
   "metadata": {},
   "source": [
    "# 2.1 <br>\n",
    "Compressor <br>\n",
    "<br>\n",
    "Isentropic Efficiency = 0.85 <br>\n",
    "Pressure Ratio = 4.0 <br>\n",
    "<br>\n",
    "Find Polytropic Efficiency & plot the variation of Isentropic Efficiency over a range of pressure ratio from 0.0 to 70.0"
   ]
  },
  {
   "cell_type": "markdown",
   "metadata": {},
   "source": [
    "$$\n",
    "\\eta_{c} =\\frac{(\\frac{p_{02}}{p_{01}})^{(\\gamma -1)/\\gamma}-1}{(\\frac{p_{02}}{p_{01}})^{(\\gamma -1)/\\gamma \\eta_{\\infty c}}-1} \\\\\n",
    "\\eta_{c} *(\\frac{p_{02}}{p_{01}})^{(\\gamma -1)/\\gamma \\eta_{\\infty c}}-1 =(\\frac{p_{02}}{p_{01}})^{(\\gamma -1)/\\gamma}-1 \\\\\n",
    "(\\frac{p_{02}}{p_{01}})^{(\\gamma -1)/\\gamma \\eta_{\\infty c}}-1 =\\frac{(\\frac{p_{02}}{p_{01}})^{(\\gamma -1)/\\gamma}-1}{\\eta_{c}} \\\\\n",
    "(\\frac{p_{02}}{p_{01}})^{(\\gamma -1)/\\gamma \\eta_{\\infty c}} =\\frac{(\\frac{p_{02}}{p_{01}})^{(\\gamma -1)/\\gamma}-1}{\\eta_{c}} +1 \\\\\n",
    "\\frac{\\gamma -1}{\\gamma \\eta_{\\infty c}} ln(\\frac{p_{02}}{p_{01}}) =ln(\\frac{(\\frac{p_{02}}{p_{01}})^{(\\gamma -1)/\\gamma}-1}{\\eta_{c}} +1) \\\\\n",
    "\\frac{\\gamma -1}{\\gamma \\eta_{\\infty c}} =\\frac{ln(\\frac{(\\frac{p_{02}}{p_{01}})^{(\\gamma -1)/\\gamma}-1}{\\eta_{c}} +1)}{ln(\\frac{p_{02}}{p_{01}})} \\\\\n",
    "\\frac{1}{\\eta_{\\infty c}} =\\frac{ln(\\frac{(\\frac{p_{02}}{p_{01}})^{(\\gamma -1)/\\gamma}-1}{\\eta_{c}} +1) \\gamma}{ln(\\frac{p_{02}}{p_{01}})(\\gamma -1)} \\\\\n",
    "\\eta_{\\infty c} =\\frac{ln(\\frac{p_{02}}{p_{01}})(\\gamma -1)}{ln(\\frac{(\\frac{p_{02}}{p_{01}})^{(\\gamma -1)/\\gamma}-1}{\\eta_{c}} +1) \\gamma} \\\\\n",
    "$$"
   ]
  },
  {
   "cell_type": "code",
   "execution_count": 830,
   "metadata": {},
   "outputs": [
    {
     "name": "stdout",
     "output_type": "stream",
     "text": [
      "Polytropic Efficiency = 0.876\n"
     ]
    }
   ],
   "source": [
    "# For a Compressor\n",
    "\n",
    "# IE is Isentropic Efficiency, PR is Pressure Ratio, PE is Polytropic Efficiency\n",
    "\n",
    "IE = 0.85\n",
    "PR = 4.0\n",
    "gamma = 1.40\n",
    "PE = (np.log(PR)*(gamma-1))/(np.log((((PR)**((gamma-1)/gamma)-1)/IE)+1)*gamma)\n",
    "print(\"Polytropic Efficiency = %5.3f\" % (PE))\n"
   ]
  },
  {
   "cell_type": "code",
   "execution_count": 831,
   "metadata": {},
   "outputs": [],
   "source": [
    "def isoeff(PE,PR,gamma):\n",
    "    return ((PR)**((gamma-1)/gamma)-1)/((PR)**((gamma-1)/(gamma*PE))-1)"
   ]
  },
  {
   "cell_type": "code",
   "execution_count": 832,
   "metadata": {},
   "outputs": [
    {
     "name": "stdout",
     "output_type": "stream",
     "text": [
      "Isentropic Efficiency at PR = 2.0 = 0.863\n",
      "Isentropic Efficiency at PR = 10.0 = 0.832\n"
     ]
    },
    {
     "name": "stderr",
     "output_type": "stream",
     "text": [
      "C:\\Users\\there\\AppData\\Local\\Temp\\ipykernel_11508\\476788659.py:2: RuntimeWarning: invalid value encountered in divide\n",
      "  return ((PR)**((gamma-1)/gamma)-1)/((PR)**((gamma-1)/(gamma*PE))-1)\n"
     ]
    },
    {
     "data": {
      "image/png": "[encoded data removed]",
      "text/plain": [
       "<Figure size 640x480 with 1 Axes>"
      ]
     },
     "metadata": {},
     "output_type": "display_data"
    }
   ],
   "source": [
    "PRs = np.arange(71)\n",
    "IEs = isoeff(PE,PRs,gamma)\n",
    "print(\"Isentropic Efficiency at PR = 2.0 = %5.3f\" % (IEs[2]))\n",
    "print(\"Isentropic Efficiency at PR = 10.0 = %5.3f\" % (IEs[10]))\n",
    "plt.plot(PRs,IEs)\n",
    "plt.xlabel('Pressure Ratio')\n",
    "plt.ylabel('Isentropic Efficiency')\n",
    "plt.show()"
   ]
  },
  {
   "cell_type": "markdown",
   "metadata": {},
   "source": [
    "# 2.2 <br>\n",
    "Compressor: <br>\n",
    "Pressure Ratio: 11.0 <br>\n",
    "Isentropic Efficiency: 0.82 <br>\n",
    "<br>\n",
    "Combustor: <br>\n",
    "Pressure Loss: 0.4 bar <br>\n",
    "Efficiency: .99 <br>\n",
    "<br>\n",
    "Turbine: <br>\n",
    "Inlet Temp: 1150 K <br>\n",
    "Gas-Gen Turbine IE: 0.87 <br>\n",
    "Power Turbine IE: 0.89 <br>\n",
    "Mechanical Efficiency 0.98 <br>\n",
    "<br>\n",
    "Ambient: 1 bar, 288 K <br>\n",
    "\n",
    "Find air mass flow rate required to deliver 20 MW of shaft power, and the SFC"
   ]
  },
  {
   "cell_type": "markdown",
   "metadata": {},
   "source": [
    "$$\n",
    "W_{net} =P*\\eta_{PT}\n",
    "$$"
   ]
  },
  {
   "cell_type": "code",
   "execution_count": 833,
   "metadata": {},
   "outputs": [
    {
     "name": "stdout",
     "output_type": "stream",
     "text": [
      "Output Power = 17.8 MW\n"
     ]
    }
   ],
   "source": [
    "# Power output of the gas turbine\n",
    "\n",
    "power = 20 #MW\n",
    "IEPT = 0.89\n",
    "\n",
    "wnet = power * IEPT\n",
    "print(\"Output Power = %4.1f MW\" % (wnet))"
   ]
  },
  {
   "cell_type": "markdown",
   "metadata": {},
   "source": [
    "$$\n",
    "h_1 =c_p * T_1\n",
    "$$"
   ]
  },
  {
   "cell_type": "code",
   "execution_count": 834,
   "metadata": {},
   "outputs": [
    {
     "name": "stdout",
     "output_type": "stream",
     "text": [
      "h1 = 289.44 kJ/kg\n"
     ]
    }
   ],
   "source": [
    "# h1\n",
    "\n",
    "T1 = 288 #K\n",
    "cp = 1.005\n",
    "\n",
    "h1 = cp * T1\n",
    "print(\"h1 = %6.2f kJ/kg\" % (h1))"
   ]
  },
  {
   "cell_type": "markdown",
   "metadata": {},
   "source": [
    "$$\n",
    "\\frac{T_{2s}}{T_1} =(\\frac{p_{2s}}{p_1})^{\\frac{\\gamma-1}{\\gamma}} \\\\\n",
    "\\frac{T_{2s}}{T_1} =(\\frac{p_2}{p_1})^{\\frac{\\gamma-1}{\\gamma}} \\\\\n",
    "T_{2s} =T_1(\\frac{p_2}{p_1})^{\\frac{\\gamma-1}{\\gamma}} \\\\\n",
    "$$"
   ]
  },
  {
   "cell_type": "code",
   "execution_count": 835,
   "metadata": {},
   "outputs": [
    {
     "name": "stdout",
     "output_type": "stream",
     "text": [
      "T2s = 571.39 K\n"
     ]
    }
   ],
   "source": [
    "# T2s\n",
    "\n",
    "PR = 11\n",
    "\n",
    "T2s = T1*((PR)**((gamma-1)/gamma))\n",
    "print(\"T2s = %6.2f K\" % (T2s))"
   ]
  },
  {
   "cell_type": "markdown",
   "metadata": {},
   "source": [
    "$$\n",
    "\\eta_{c} =\\frac{T_{2s} -T_1}{T_2-T_1} \\\\\n",
    "T_2-T_1 =\\frac{T_{2s} -T_1}{\\eta_{c}} \\\\\n",
    "T_2 =\\frac{T_{2s} -T_1}{\\eta_{c}} +T_1\n",
    "$$"
   ]
  },
  {
   "cell_type": "code",
   "execution_count": 836,
   "metadata": {},
   "outputs": [
    {
     "name": "stdout",
     "output_type": "stream",
     "text": [
      "T2 = 633.60 K\n"
     ]
    }
   ],
   "source": [
    "#T2\n",
    "\n",
    "IEC = 0.82\n",
    "\n",
    "T2 = ((T2s-T1)/IEC)+T1\n",
    "print(\"T2 = %6.2f K\" % (T2))"
   ]
  },
  {
   "cell_type": "markdown",
   "metadata": {},
   "source": [
    "$$\n",
    "p_3 -p_2 = p_{loss}\n",
    "$$"
   ]
  },
  {
   "cell_type": "code",
   "execution_count": 837,
   "metadata": {},
   "outputs": [
    {
     "name": "stdout",
     "output_type": "stream",
     "text": [
      "p3 = 11.40 bar\n"
     ]
    }
   ],
   "source": [
    "# p3\n",
    "\n",
    "ploss = 0.4\n",
    "\n",
    "# p1 is ambient (1 bar) so p2 = PR, 11 bar\n",
    "\n",
    "p2 = 11\n",
    "\n",
    "p3 = ploss + p2\n",
    "print (\"p3 = %5.2f bar\" % (p3))"
   ]
  },
  {
   "cell_type": "markdown",
   "metadata": {},
   "source": [
    "$$\n",
    "T_{4s} =T_3(\\frac{p_{4s}}{p_3})^{\\frac{\\gamma-1}{\\gamma}}\n",
    "$$"
   ]
  },
  {
   "cell_type": "code",
   "execution_count": 838,
   "metadata": {},
   "outputs": [
    {
     "name": "stdout",
     "output_type": "stream",
     "text": [
      "T4s = 573.75 K\n"
     ]
    }
   ],
   "source": [
    "# T4s\n",
    "\n",
    "T3 = 1150 #K\n",
    "\n",
    "# p4s = p4 = p1\n",
    "\n",
    "p4s = 1\n",
    "\n",
    "T4s = T3*((p4s/p3)**((gamma-1)/gamma))\n",
    "print(\"T4s = %6.2f K\" % (T4s))"
   ]
  },
  {
   "cell_type": "markdown",
   "metadata": {},
   "source": [
    "$$\n",
    "\\eta_{c} =\\frac{T_3 -T_4}{T_3-T_{4s}} \\\\\n",
    "\\eta_{c}(T_3-T_{4s}) =T_3 -T_4 \\\\\n",
    "\\eta_{c}(T_3-T_{4s})-T_3= -T_4 \\\\\n",
    "T_4 = -\\eta_{c}(T_3-T_{4s})+T_3\n",
    "$$"
   ]
  },
  {
   "cell_type": "code",
   "execution_count": 839,
   "metadata": {},
   "outputs": [
    {
     "name": "stdout",
     "output_type": "stream",
     "text": [
      "T4 = 648.67 K\n"
     ]
    }
   ],
   "source": [
    "# T4\n",
    "\n",
    "IEGT = 0.87\n",
    "\n",
    "T4 = -IEGT*(T3-T4s)+T3\n",
    "print(\"T4 = %6.2f K\" % (T4))"
   ]
  },
  {
   "cell_type": "markdown",
   "metadata": {},
   "source": [
    "$$\n",
    "Q_S =\\eta_{comb} *(c_p(T_3-T_2)) \\\\\n",
    "\\\\\n",
    "Q_R = c_p(T_4-T_1)\n",
    "$$"
   ]
  },
  {
   "cell_type": "code",
   "execution_count": 840,
   "metadata": {},
   "outputs": [
    {
     "name": "stdout",
     "output_type": "stream",
     "text": [
      "Heat Supplied (Q_S) = 513.79 kJ/kg\n",
      "Heat Rejected (Q_R) = 362.47 kJ/kg\n"
     ]
    }
   ],
   "source": [
    "# Heat\n",
    "\n",
    "ncomb = 0.99\n",
    "\n",
    "Qs = ncomb * (cp*(T3-T2))\n",
    "Qr = cp*(T4-T1)\n",
    "\n",
    "print(\"Heat Supplied (Q_S) = %6.2f kJ/kg\" % (Qs))\n",
    "print(\"Heat Rejected (Q_R) = %6.2f kJ/kg\" % (Qr))"
   ]
  },
  {
   "cell_type": "markdown",
   "metadata": {},
   "source": [
    "$$\n",
    "\\dot{m} = \\frac{W_{net}}{Q_S-Q_R}\n",
    "$$"
   ]
  },
  {
   "cell_type": "code",
   "execution_count": 841,
   "metadata": {},
   "outputs": [
    {
     "name": "stdout",
     "output_type": "stream",
     "text": [
      "The mass flow rate of air through the turbine is 117.63 kg/s\n"
     ]
    }
   ],
   "source": [
    "# Air mass flow rate\n",
    "\n",
    "wnetkw = 1000*wnet\n",
    " \n",
    "amfr = wnetkw/(Qs-Qr)\n",
    "\n",
    "print(\"The mass flow rate of air through the turbine is %6.2f kg/s\" % (amfr))"
   ]
  },
  {
   "cell_type": "markdown",
   "metadata": {},
   "source": [
    "$$\n",
    "\\dot{m_f} *CV = \\dot{m_a}*c_{p_g}*(T_3-T_2) \\\\\n",
    "\\dot{m_f} = \\frac{(\\dot{m_a}*c_{p_g}*(T_3-T_2))}{CV}\n",
    "$$"
   ]
  },
  {
   "cell_type": "markdown",
   "metadata": {},
   "source": [
    "# 2.4 <br>\n",
    "| | A | B | C |\n",
    "| --- | --- | --- | --- |\n",
    "| Polytropic Efficiency (Compressor) | 0.87 | 0.88 | 0.89 |\n",
    "| Polytropic Efficiency (Turbine) | 0.89 | 0.88 | 0.88 |\n",
    "| Compressor Pressure Ratio | 9.0 | 12.0 | 16.0 |\n",
    "| Compressor Pressure Loss | 5.0% | 5.0% | 5.0% |\n",
    "| Turbine Inlet Temperature | 1150 K | 1400 K | 1600 K |\n",
    "| Rator Cooling Bleed | - | 2.5% | 5.0% |\n",
    "| Airflow | 75.0 kg/s | 80.0 kg/s | 85.0 kg/s |\n",
    "\n",
    "Combustion Efficiency = 99% <br>\n",
    "Mechanical Efficiency 99% <br>\n",
    "Inlet/Exhaust Pressure Loss = 0 bar <br>\n",
    "<br>\n",
    "Find Power & SFC for each <br>\n",
    "Find the % Improvement from version A"
   ]
  },
  {
   "cell_type": "markdown",
   "metadata": {},
   "source": [
    "$$\n",
    "\\frac{T_3}{T_4} =(\\frac{p_3}{p_4})^\\frac{\\eta-1}{\\eta} \\\\\n",
    "\\frac{T_3}{T_4} =(\\frac{p_2 \\Delta p_{comb}}{p_1})^{\\frac{\\gamma-1}{\\gamma}\\eta_{\\infty t}} \\\\\n",
    "T_4 = \\frac{T_3}{(\\frac{p_2 \\Delta p_{comb}}{p_1})^{\\frac{\\gamma-1}{\\gamma}\\eta_{\\infty t}}}\n",
    "$$"
   ]
  },
  {
   "cell_type": "code",
   "execution_count": 842,
   "metadata": {},
   "outputs": [
    {
     "name": "stdout",
     "output_type": "stream",
     "text": [
      "T4A = 666.36 K\n"
     ]
    }
   ],
   "source": [
    "# For Version A\n",
    "# Outlet Temp\n",
    "TinA = 1150\n",
    "PRA = 9\n",
    "PEtA = 0.89\n",
    "deltaPcomb = 0.95\n",
    "\n",
    "T4A = TinA/(((PRA*deltaPcomb)**(((gamma-1)/gamma)*PEtA)))\n",
    "print(\"T4A = %6.2f K\" % (T4A))"
   ]
  },
  {
   "cell_type": "code",
   "execution_count": 843,
   "metadata": {},
   "outputs": [
    {
     "name": "stdout",
     "output_type": "stream",
     "text": [
      "T4B = 759.26 K\n"
     ]
    }
   ],
   "source": [
    "# For Version B\n",
    "# Outlet Temp\n",
    "TinB = 1400\n",
    "PRB = 12\n",
    "PEtB = 0.88\n",
    "\n",
    "T4B = TinB/(((PRB*deltaPcomb)**(((gamma-1)/gamma)*PEtB)))\n",
    "print(\"T4B = %6.2f K\" % (T4B))"
   ]
  },
  {
   "cell_type": "code",
   "execution_count": 844,
   "metadata": {},
   "outputs": [
    {
     "name": "stdout",
     "output_type": "stream",
     "text": [
      "T4C = 807.18 K\n"
     ]
    }
   ],
   "source": [
    "# For Version C\n",
    "# Outlet Temp\n",
    "TinC = 1600\n",
    "PRC = 16\n",
    "PEtC = 0.88\n",
    "\n",
    "T4C = TinC/(((PRC*deltaPcomb)**(((gamma-1)/gamma)*PEtC)))\n",
    "print(\"T4C = %6.2f K\" % (T4C))"
   ]
  },
  {
   "cell_type": "markdown",
   "metadata": {},
   "source": [
    "$$\n",
    "\\eta_{c} = \\eta_{mech} *w_t \\\\\n",
    "\\dot{m} (h_2-h_1) = \\eta_{mech} *\\dot{m}(h_3-h_4) \\\\\n",
    "\\dot{m} c_p (T_2-T_1) = \\eta_{mech} *\\dot{m} c_p (T_3-T_4) \\\\\n",
    "(T_2-T_1) = \\eta_{mech} *(T_3-T_4)\n",
    "$$"
   ]
  },
  {
   "cell_type": "code",
   "execution_count": 845,
   "metadata": {},
   "outputs": [
    {
     "name": "stdout",
     "output_type": "stream",
     "text": [
      "Delta T1A to T2A = 478.80 K\n"
     ]
    }
   ],
   "source": [
    "# For Version A\n",
    "# delta T1 to T2\n",
    "\n",
    "IEmech = 0.99\n",
    "\n",
    "t21A = IEmech *(TinA-T4A)\n",
    "\n",
    "print(\"Delta T1A to T2A = %6.2f K\" % (t21A))"
   ]
  },
  {
   "cell_type": "code",
   "execution_count": 846,
   "metadata": {},
   "outputs": [
    {
     "name": "stdout",
     "output_type": "stream",
     "text": [
      "Delta T1B to T2B = 634.33 K\n"
     ]
    }
   ],
   "source": [
    "# For Version B\n",
    "# delta T1 to T2\n",
    "\n",
    "t21B = IEmech *(TinB-T4B)\n",
    "\n",
    "print(\"Delta T1B to T2B = %6.2f K\" % (t21B))"
   ]
  },
  {
   "cell_type": "code",
   "execution_count": 847,
   "metadata": {},
   "outputs": [
    {
     "name": "stdout",
     "output_type": "stream",
     "text": [
      "Delta T1C to T2C = 784.89 K\n"
     ]
    }
   ],
   "source": [
    "# For Version A\n",
    "# delta T1 to T2\n",
    "\n",
    "t21C = IEmech *(TinC-T4C)\n",
    "\n",
    "print(\"Delta T1C to T2C = %6.2f K\" % (t21C))"
   ]
  },
  {
   "cell_type": "markdown",
   "metadata": {},
   "source": [
    "$$\n",
    "\\frac{T_2}{T_1} =(\\frac{p_2}{p_1})^\\frac{n-1}{n} \\\\\n",
    "\\frac{T_2}{T_1} =(\\frac{p_2}{p_1})^\\frac{\\gamma-1}{\\gamma \\eta_{\\infty c}} \\\\\n",
    "$$"
   ]
  },
  {
   "cell_type": "code",
   "execution_count": 848,
   "metadata": {},
   "outputs": [
    {
     "name": "stdout",
     "output_type": "stream",
     "text": [
      "T2A/T1A = 2.06 \n"
     ]
    }
   ],
   "source": [
    "# For Version A\n",
    "# T2/T1\n",
    "\n",
    "PEcA = 0.87\n",
    "\n",
    "t2o1A = (PRA)**((gamma-1)/(gamma*PEcA))\n",
    "\n",
    "print(\"T2A/T1A = %4.2f \" % (t2o1A))"
   ]
  },
  {
   "cell_type": "code",
   "execution_count": 849,
   "metadata": {},
   "outputs": [
    {
     "name": "stdout",
     "output_type": "stream",
     "text": [
      "T2B/T1B = 2.24 \n"
     ]
    }
   ],
   "source": [
    "# For Version B\n",
    "# T2/T1\n",
    "\n",
    "PEcB = 0.88\n",
    "\n",
    "t2o1B = (PRB)**((gamma-1)/(gamma*PEcB))\n",
    "\n",
    "print(\"T2B/T1B = %4.2f \" % (t2o1B))"
   ]
  },
  {
   "cell_type": "code",
   "execution_count": 850,
   "metadata": {},
   "outputs": [
    {
     "name": "stdout",
     "output_type": "stream",
     "text": [
      "T2C/T1C = 2.44 \n"
     ]
    }
   ],
   "source": [
    "# For Version C\n",
    "# T2/T1\n",
    "\n",
    "PEcC = 0.89\n",
    "\n",
    "t2o1C = (PRC)**((gamma-1)/(gamma*PEcC))\n",
    "\n",
    "print(\"T2C/T1C = %4.2f \" % (t2o1C))"
   ]
  },
  {
   "cell_type": "markdown",
   "metadata": {},
   "source": [
    "$$\n",
    "T_2 -T_1 =x \\\\\n",
    "\\frac{T_2}{T_1} =y \\\\\n",
    "T_1 y = T_2 \\\\\n",
    "(T_1 y) - T_1 =x \\\\\n",
    "T_1(y-1) =x \\\\\n",
    "T_1 =\\frac{x}{y-1}\\\\\n",
    "T_2 = x+T_1\n",
    "$$"
   ]
  },
  {
   "cell_type": "code",
   "execution_count": 851,
   "metadata": {},
   "outputs": [
    {
     "name": "stdout",
     "output_type": "stream",
     "text": [
      "T1A = 452.68 K\n",
      "T2A = 931.48 K\n"
     ]
    }
   ],
   "source": [
    "# For Version A\n",
    "# T1 & T2\n",
    "\n",
    "T1A = t21A/(t2o1A-1)\n",
    "T2A = t21A + T1A\n",
    "\n",
    "print(\"T1A = %6.2f K\" % (T1A))\n",
    "print(\"T2A = %6.2f K\" % (T2A))"
   ]
  },
  {
   "cell_type": "code",
   "execution_count": 852,
   "metadata": {},
   "outputs": [
    {
     "name": "stdout",
     "output_type": "stream",
     "text": [
      "T1B = 511.27 K\n",
      "T2B = 1145.60 K\n"
     ]
    }
   ],
   "source": [
    "# For Version B\n",
    "# T1 & T2\n",
    "\n",
    "T1B = t21B/(t2o1B-1)\n",
    "T2B = t21B + T1B\n",
    "\n",
    "print(\"T1B = %6.2f K\" % (T1B))\n",
    "print(\"T2B = %6.2f K\" % (T2B))"
   ]
  },
  {
   "cell_type": "code",
   "execution_count": 853,
   "metadata": {},
   "outputs": [
    {
     "name": "stdout",
     "output_type": "stream",
     "text": [
      "T1C = 546.84 K\n",
      "T2C = 1331.73 K\n"
     ]
    }
   ],
   "source": [
    "# For Version C\n",
    "# T1 & T2\n",
    "\n",
    "T1C = t21C/(t2o1C-1)\n",
    "T2C = t21C + T1C\n",
    "\n",
    "print(\"T1C = %6.2f K\" % (T1C))\n",
    "print(\"T2C = %6.2f K\" % (T2C))"
   ]
  },
  {
   "cell_type": "markdown",
   "metadata": {},
   "source": [
    "$$\n",
    "P =\\dot{m} (W_t-W_c) \\\\\n",
    "P =\\dot{m} ((h_3-h_4)-(h_2-h_1)) \\\\\n",
    "P =\\dot{m} c_p ((T_3-T_4)-(T_2-T_1)) \\\\\n",
    "$$"
   ]
  },
  {
   "cell_type": "code",
   "execution_count": 854,
   "metadata": {},
   "outputs": [
    {
     "name": "stdout",
     "output_type": "stream",
     "text": [
      "The Power Output for Version A is 364.54 kW\n"
     ]
    }
   ],
   "source": [
    "# For Version A\n",
    "# Power Output\n",
    "\n",
    "mfrA = 75\n",
    "\n",
    "PowerA = mfrA*cp*((TinA-T4A)-(T2A-T1A))\n",
    "\n",
    "print(\"The Power Output for Version A is %6.2f kW\" % (PowerA))"
   ]
  },
  {
   "cell_type": "code",
   "execution_count": 855,
   "metadata": {},
   "outputs": [
    {
     "name": "stdout",
     "output_type": "stream",
     "text": [
      "The Power Output for Version A is 515.15 kW\n"
     ]
    }
   ],
   "source": [
    "# For Version B\n",
    "# Power Output\n",
    "\n",
    "mfrB = 80\n",
    "\n",
    "PowerB = mfrB*cp*((TinB-T4B)-(T2B-T1B))\n",
    "\n",
    "print(\"The Power Output for Version A is %6.2f kW\" % (PowerB))"
   ]
  },
  {
   "cell_type": "code",
   "execution_count": 856,
   "metadata": {},
   "outputs": [
    {
     "name": "stdout",
     "output_type": "stream",
     "text": [
      "The Power Output for Version A is 677.27 kW\n"
     ]
    }
   ],
   "source": [
    "# For Version C\n",
    "# Power Output\n",
    "\n",
    "mfrC = 85\n",
    "\n",
    "PowerC = mfrC*cp*((TinC-T4C)-(T2C-T1C))\n",
    "\n",
    "print(\"The Power Output for Version A is %6.2f kW\" % (PowerC))"
   ]
  },
  {
   "cell_type": "markdown",
   "metadata": {},
   "source": [
    "$$\n",
    "Percentage Increase = \\frac{Final Value - Starting Value}{Starting Value}\n",
    "$$"
   ]
  },
  {
   "cell_type": "code",
   "execution_count": 857,
   "metadata": {},
   "outputs": [
    {
     "name": "stdout",
     "output_type": "stream",
     "text": [
      "The Percentage Improvement between A and B is   0.41 %\n",
      "The Percentage Improvement between A and C is   0.86 %\n"
     ]
    }
   ],
   "source": [
    "# Percentage Increase\n",
    "\n",
    "percentAB = (PowerB-PowerA)/PowerA\n",
    "print(\"The Percentage Improvement between A and B is %6.2f %%\" % (percentAB))\n",
    "\n",
    "percentAC = (PowerC-PowerA)/PowerA\n",
    "print(\"The Percentage Improvement between A and C is %6.2f %%\" % (percentAC))"
   ]
  },
  {
   "cell_type": "markdown",
   "metadata": {},
   "source": [
    "$$\n",
    "SFC = \\frac{3600}{\\dot{W_{net}}} \\\\\n",
    "\\dot{W_{net}} = \\frac{P}{\\dot{m}}\n",
    "$$"
   ]
  },
  {
   "cell_type": "code",
   "execution_count": 858,
   "metadata": {},
   "outputs": [
    {
     "name": "stdout",
     "output_type": "stream",
     "text": [
      "The SFC of Version A is 740.66 kg/kWh\n",
      "The SFC of Version B is 559.06 kg/kWh\n",
      "The SFC of Version C is 451.82 kg/kWh\n"
     ]
    }
   ],
   "source": [
    "# SFC\n",
    "\n",
    "SFCA = 3600/(PowerA/mfrA)\n",
    "SFCB = 3600/(PowerB/mfrB)\n",
    "SFCC = 3600/(PowerC/mfrC)\n",
    "print(\"The SFC of Version A is %6.2f kg/kWh\" % (SFCA))\n",
    "print(\"The SFC of Version B is %6.2f kg/kWh\" % (SFCB))\n",
    "print(\"The SFC of Version C is %6.2f kg/kWh\" % (SFCC))"
   ]
  }
 ],
 "metadata": {
  "kernelspec": {
   "display_name": "Python 3",
   "language": "python",
   "name": "python3"
  },
  "language_info": {
   "codemirror_mode": {
    "name": "ipython",
    "version": 3
   },
   "file_extension": ".py",
   "mimetype": "text/x-python",
   "name": "python",
   "nbconvert_exporter": "python",
   "pygments_lexer": "ipython3",
   "version": "3.11.5"
  },
  "orig_nbformat": 4
 },
 "nbformat": 4,
 "nbformat_minor": 2
}
