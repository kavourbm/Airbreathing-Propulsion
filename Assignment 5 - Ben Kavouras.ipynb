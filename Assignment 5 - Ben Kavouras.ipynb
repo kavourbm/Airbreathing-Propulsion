{
 "cells": [
  {
   "cell_type": "code",
   "execution_count": 893,
   "metadata": {},
   "outputs": [],
   "source": [
    "import numpy as np\n",
    "import matplotlib.pyplot as plt\n",
    "%matplotlib inline"
   ]
  },
  {
   "cell_type": "markdown",
   "metadata": {},
   "source": [
    "# 1\n",
    "A mean diameter design of a turbine stage having equal inlet and outlet velocities leads to the following data:\n",
    "\n",
    "| Item | Dimension |\n",
    "| --- | --- |\n",
    "| Mass flow $ \\dot{m} $ | 20 kg/s |\n",
    "| Inlet temperature $ T_{01} $ | 1000 K |\n",
    "| Inlet pressure $ p_{01} $ | 4.0 bar |\n",
    "| Axial velocity (constant through stage) $ C_a $ | 260 m/s |\n",
    "| Blade speed $ U $ | 360 m/s |\n",
    "| Nozzle efflux angle $ \\alpha_2 $ | 65° |\n",
    "| Stage exit swirl $ \\alpha_3 $ | 10° |\n",
    "\n",
    "Determine the rotor blade gas angles, degree of reaction, temperature drop coefficient ($ 2 c_p \\Delta T_{0S} / U^2 $) and power output. \\\n",
    "Assuming a nozzle loss coefficient $ \\lambda_N $ of 0.05, calculate the nozzle throat area required (ignoring the effect of friction on the critical conditions)."
   ]
  },
  {
   "cell_type": "code",
   "execution_count": 894,
   "metadata": {},
   "outputs": [],
   "source": [
    "# Givens:\n",
    "\n",
    "mdot = 20 # kg/s\n",
    "To1 = 1100 # K\n",
    "po1 = 4.0 # bar\n",
    "alpha2 = 65 # Degrees\n",
    "alpha3 = 10 # Degrees\n",
    "Ca = 260 # m/s\n",
    "U = 360 # m/s\n",
    "nozzleloss = 0.05\n",
    "\n",
    "# Assumptions:\n",
    "\n",
    "alpha1 = 0 # Degrees\n",
    "cp = 1.148\n",
    "gammahot = 1.33\n",
    "\n",
    "phi = Ca/U"
   ]
  },
  {
   "cell_type": "markdown",
   "metadata": {},
   "source": [
    "$$\n",
    "tan \\alpha_2 = tan \\beta_2 - \\frac{1}{\\phi}\n",
    "$$"
   ]
  },
  {
   "cell_type": "code",
   "execution_count": 895,
   "metadata": {},
   "outputs": [
    {
     "name": "stdout",
     "output_type": "stream",
     "text": [
      "beta 2 = 37.23°\n"
     ]
    }
   ],
   "source": [
    "beta2 = np.degrees(np.arctan(np.tan(np.radians(alpha2))-(1/phi)))\n",
    "\n",
    "print(\"beta 2 = %3.2f°\" % (beta2))"
   ]
  },
  {
   "cell_type": "markdown",
   "metadata": {},
   "source": [
    "$$\n",
    "tan \\alpha_3 = tan \\beta_3 - \\frac{1}{\\phi}\n",
    "$$"
   ]
  },
  {
   "cell_type": "code",
   "execution_count": 896,
   "metadata": {},
   "outputs": [
    {
     "name": "stdout",
     "output_type": "stream",
     "text": [
      "beta 3 = 57.35°\n"
     ]
    }
   ],
   "source": [
    "beta3 = np.degrees(np.arctan(np.tan(np.radians(alpha3))+(1/phi)))\n",
    "\n",
    "print(\"beta 3 = %3.2f°\" % (beta3))"
   ]
  },
  {
   "cell_type": "markdown",
   "metadata": {},
   "source": [
    "$$\n",
    "\\Lambda = \\frac{C_a}{2 U} (tan \\beta_3 - tan \\beta_2)\n",
    "$$"
   ]
  },
  {
   "cell_type": "code",
   "execution_count": 897,
   "metadata": {},
   "outputs": [
    {
     "name": "stdout",
     "output_type": "stream",
     "text": [
      "The Degree of Reaction is 0.29\n"
     ]
    }
   ],
   "source": [
    "degreeofreaction =((Ca)/(2*U))*(np.tan(np.radians(beta3))-np.tan(np.radians(beta2)))\n",
    "\n",
    "print(\"The Degree of Reaction is %3.2f\" % (degreeofreaction))"
   ]
  },
  {
   "cell_type": "markdown",
   "metadata": {},
   "source": [
    "$$\n",
    "\\psi = \\frac{2 C_a}{U} (tan \\beta_2 +tan \\beta_3)\n",
    "$$"
   ]
  },
  {
   "cell_type": "code",
   "execution_count": 898,
   "metadata": {},
   "outputs": [
    {
     "name": "stdout",
     "output_type": "stream",
     "text": [
      "The Blade Loading Coefficient is 3.35\n"
     ]
    }
   ],
   "source": [
    "psi = ((2*Ca)/(U))*(np.tan(np.radians(beta2))+np.tan(np.radians(beta3)))\n",
    "\n",
    "print(\"The Blade Loading Coefficient is %3.2f\" % (psi))"
   ]
  },
  {
   "cell_type": "markdown",
   "metadata": {},
   "source": [
    "$$\n",
    "w = U C_a (tan \\alpha_2 + tan \\alpha_3) = U C_a (tan \\beta_2 + tan \\beta_3) \\\\\n",
    "w = \\frac{W}{\\dot{m}}\n",
    "$$"
   ]
  },
  {
   "cell_type": "code",
   "execution_count": 899,
   "metadata": {},
   "outputs": [
    {
     "name": "stdout",
     "output_type": "stream",
     "text": [
      "The power output is 4344.60 kW\n"
     ]
    }
   ],
   "source": [
    "w = U*Ca*(np.tan(np.radians(alpha2))+np.tan(np.radians(alpha3)))\n",
    "\n",
    "Power = (w*mdot)/1000\n",
    "\n",
    "print(\"The power output is %4.2f kW\" % (Power))"
   ]
  },
  {
   "cell_type": "markdown",
   "metadata": {},
   "source": [
    "$$\n",
    "A_{2N} = \\frac{\\dot{m}}{\\rho_2 C_2} \\\\\n",
    "C_2 = \\frac{C_a}{cos \\alpha_2} \\\\\n",
    "$$"
   ]
  },
  {
   "cell_type": "markdown",
   "metadata": {},
   "source": [
    "$$\n",
    "\\rho_2 = \\frac{p_2}{R T_2} \\\\\n",
    "w = c_p (T_{02}-T_{01}) \\\\\n",
    "T_{02} -T_2 =\\frac{{C_2}^2}{2 c_p} \\\\\n",
    "T_2 - {T_2}' =\\lambda_N \\frac{{C_2}^2}{2 c_p} \\\\\n",
    "\\frac{p_{01}}{p_2} =(\\frac{T_{01}}{{T_2}'})^{\\gamma/\\gamma-1}\n",
    "$$"
   ]
  },
  {
   "cell_type": "code",
   "execution_count": 900,
   "metadata": {},
   "outputs": [
    {
     "name": "stdout",
     "output_type": "stream",
     "text": [
      "To1 = 1100.00 K\n",
      "To2 = 910.78 K\n",
      "T2 = 745.93 K \n",
      "T2prime = 737.69 K\n",
      "p2 = 0.80 bar\n",
      "The Nozzle Area is 0.0871 m^2\n"
     ]
    }
   ],
   "source": [
    "deltastagt21 = w/(cp*1000)\n",
    "\n",
    "To2 = -1*(deltastagt21-To1)\n",
    "\n",
    "print(\"To1 = %3.2f K\" % (To1))\n",
    "\n",
    "print(\"To2 = %3.2f K\" % (To2))\n",
    "\n",
    "C2 = Ca/(np.cos(np.radians(alpha2)))\n",
    "\n",
    "T2 = To2-((C2**2)/(2*cp*1000))\n",
    "\n",
    "print(\"T2 = %3.2f K \" % (T2))\n",
    "\n",
    "T2prime = -1*(nozzleloss*((C2**2)/(2*cp*1000)))+T2\n",
    "\n",
    "print(\"T2prime = %3.2f K\" % (T2prime))\n",
    "\n",
    "p2 = 1/((1/po1)*((To1/T2prime)**(gammahot/(gammahot-1))))\n",
    "\n",
    "print(\"p2 = %3.2f bar\" % (p2))\n",
    "\n",
    "density2 = (p2*100000)/(287*T2)\n",
    "\n",
    "A2N = mdot/(density2*C2)\n",
    "\n",
    "print(\"The Nozzle Area is %3.4f m^2\" % (A2N))"
   ]
  },
  {
   "cell_type": "markdown",
   "metadata": {},
   "source": [
    "# 2\n",
    "The following particulars relate to a single-stage turbine of free vortex design:\n",
    "\n",
    "| Item | Dimension |\n",
    "| --- | --- |\n",
    "| Inlet temperature $ T_{01} $ | 1350 K |\n",
    "| Inlet pressure $ p_{01} $ | 5.2 bar |\n",
    "| Outlet velocity $ C_3 $ | 275 m/s |\n",
    "| Blade speed at root radius $ U_r $ | 500 m/s |\n",
    "| Turbine isentropic efficiency $ \\eta_t $ | 0.91 |\n",
    "| $ \\frac{p_{01}}{p_{03}} $ | 3.4 |\n",
    "\n",
    "The turbine is designed for zero reaction ($ \\Lambda = 0 $) at the root radius, and the velocities at inlet and outlet ($ C_1 $ and $ C_3 $) are both equal and axial. Calculate the nozzle efflux angle $ \\alpha_2 $ and blade inlet gas angle $ \\beta_2 $ at the root radius. \\\n",
    "If the tip/root radius ratio of the annulus at exit from the nozzle blades is 1.4, determine the nozzle efflux angle and degree of reaction at the tip radius. \\\n",
    "Assuming a nozzle blade loss coefficient $ \\lambda_N $ f 0.05 calculate the static pressure at the inlet and outlet of the rotor blades at the root radius and thereby show that even at the root there is some expansion in the rotor blade passages under these conditions. \\\n",
    "Note that with the design criteria given, that $ C_{ax} $ is not constant (i.e. while $ C_1 = C_3 $ , $ C_2 $ is not equal to $ C_1 $ and $ C_3 $)."
   ]
  },
  {
   "cell_type": "code",
   "execution_count": 901,
   "metadata": {},
   "outputs": [],
   "source": [
    "# Givens:\n",
    "\n",
    "To1 = 1350 # K\n",
    "po1 = 5.2 # bar\n",
    "C3r = 275 # m/s\n",
    "Ur = 500 # m/s\n",
    "isent = 0.91\n",
    "C1r = C3r\n",
    "nozzleloss = 0.05\n",
    "Ca1r = C1r\n",
    "po3 = po1/3.4\n",
    "tiproot = 1.4\n",
    "\n",
    "# Assumptions:\n",
    "\n",
    "cp = 1.148\n",
    "gammahot = 1.33"
   ]
  },
  {
   "cell_type": "markdown",
   "metadata": {},
   "source": [
    "$ C_1 $ is axial, so $ C_1 = C_{a1} $, and $ \\alpha_1 = 0 $. Since $ C_1 = C_3 $, $ C_3 $ is also axial, so therefore $ C_1 = C_3 = C_{a1} = C_{a3} $,"
   ]
  },
  {
   "cell_type": "markdown",
   "metadata": {},
   "source": [
    "$$\n",
    "\\eta_t = \\frac{T_{01} -T_{03}}{T_{01}[1-(\\frac{p_{03}}{p_{01}})^{\\gamma-1/\\gamma}]} \\\\\n",
    "\\eta_t T_{01}[1-(\\frac{p_{03}}{p_{01}})^{\\gamma-1/\\gamma}] = T_{01} -T_{03} \\\\\n",
    "T_{01}-\\eta_t T_{01}[1-(\\frac{p_{03}}{p_{01}})^{\\gamma-1/\\gamma}] = T_{03} \n",
    "$$"
   ]
  },
  {
   "cell_type": "code",
   "execution_count": 902,
   "metadata": {},
   "outputs": [
    {
     "name": "stdout",
     "output_type": "stream",
     "text": [
      "To3 = 1028.29 K\n"
     ]
    }
   ],
   "source": [
    "To13drop = (isent*To1*(1-(po3/po1)**((gammahot-1)/gammahot)))\n",
    "To3 = To1-To13drop\n",
    "\n",
    "print(\"To3 = %3.2f K\" % (To3))"
   ]
  },
  {
   "cell_type": "markdown",
   "metadata": {},
   "source": [
    "$$\n",
    "w = U C_{w2r} = c_p \\Delta T_{013} \\\\\n",
    "C_{wr} r = constant \\\\\n",
    "C_{w2r} = \\frac{c_p \\Delta T_{013}}{U}\n",
    "$$"
   ]
  },
  {
   "cell_type": "code",
   "execution_count": 903,
   "metadata": {},
   "outputs": [
    {
     "name": "stdout",
     "output_type": "stream",
     "text": [
      "Root Whirl Veloctity after nozzle = 738.66 m/s\n"
     ]
    }
   ],
   "source": [
    "Cw2r = (cp*1000*To13drop)/Ur\n",
    "\n",
    "print(\"Root Whirl Veloctity after nozzle = %3.2f m/s\" % (Cw2r))"
   ]
  },
  {
   "cell_type": "markdown",
   "metadata": {},
   "source": [
    "$$\n",
    "\\Lambda = \\frac{T_2 - T_3}{T_1 - T_3} \\\\\n",
    "T_2 = T_3\n",
    "$$"
   ]
  },
  {
   "cell_type": "markdown",
   "metadata": {},
   "source": [
    "$$\n",
    "T_{0} -T =\\frac{{C}^2}{2 c_p} \\\\\n",
    "T =T_{0} -\\frac{{C}^2}{2 c_p} \\\\\n",
    "T_{02} -\\frac{{C_{2r}}^2}{2 c_p} =T_{03} -\\frac{{C_{3r}}^2}{2 c_p} \\\\\n",
    "\\frac{{C_{2r}}^2}{2 c_p} = \\frac{{C_{3r}}^2}{2 c_p} +T_{02} -T_{03} \\\\\n",
    "{C_{2r}}^2 =2 c_p (\\frac{{C_{3r}}^2}{2 c_p} +T_{02} -T_{03}) \\\\\n",
    "C_{2r} = \\sqrt{2 c_p (\\frac{{C_{3r}}^2}{2 c_p} +T_{02} -T_{03})}\n",
    "$$"
   ]
  },
  {
   "cell_type": "code",
   "execution_count": 904,
   "metadata": {},
   "outputs": [
    {
     "name": "stdout",
     "output_type": "stream",
     "text": [
      "Root C2 = 902.38 m/s\n"
     ]
    }
   ],
   "source": [
    "To2 = To1\n",
    "\n",
    "C2r = np.sqrt(2*cp*1000*(((C3r**2)/(2*cp*1000))+To2-To3))\n",
    "\n",
    "print(\"Root C2 = %3.2f m/s\" % (C2r))"
   ]
  },
  {
   "cell_type": "markdown",
   "metadata": {},
   "source": [
    "$$\n",
    "sin \\alpha_{2r} = \\frac{C_{w2r}}{C_{2r}}\n",
    "$$"
   ]
  },
  {
   "cell_type": "code",
   "execution_count": 905,
   "metadata": {},
   "outputs": [
    {
     "name": "stdout",
     "output_type": "stream",
     "text": [
      "Root Alpha 2 = 54.94°\n"
     ]
    }
   ],
   "source": [
    "alpha2r = np.degrees(np.arcsin(Cw2r/C2r))\n",
    "\n",
    "print(\"Root Alpha 2 = %3.2f°\" % (alpha2r))"
   ]
  },
  {
   "cell_type": "markdown",
   "metadata": {},
   "source": [
    "$$\n",
    "C_{2r}^2 = C_{a2}^2 + C_{w2r}^2\n",
    "$$"
   ]
  },
  {
   "cell_type": "code",
   "execution_count": 906,
   "metadata": {},
   "outputs": [
    {
     "name": "stdout",
     "output_type": "stream",
     "text": [
      "Root Axial Velocity after the nozzle = 518.33 m/s\n"
     ]
    }
   ],
   "source": [
    "Ca2 = np.sqrt((C2r**2)-(Cw2r**2)) # Ca is constant along blade\n",
    "\n",
    "print(\"Root Axial Velocity after the nozzle = %3.2f m/s\" % (Ca2))"
   ]
  },
  {
   "cell_type": "markdown",
   "metadata": {},
   "source": [
    "$$\n",
    "tan \\beta_{2r} =\\frac{C_{w2r}-U_r}{C_{a2}}\n",
    "$$"
   ]
  },
  {
   "cell_type": "code",
   "execution_count": 907,
   "metadata": {},
   "outputs": [
    {
     "name": "stdout",
     "output_type": "stream",
     "text": [
      "Root Beta 2 = 24.72°\n"
     ]
    }
   ],
   "source": [
    "beta2r = np.degrees(np.arctan((Cw2r-Ur)/Ca2))\n",
    "\n",
    "print(\"Root Beta 2 = %3.2f°\" % (beta2r))"
   ]
  },
  {
   "cell_type": "markdown",
   "metadata": {},
   "source": [
    "$$\n",
    "C_{w2t} =\\frac{C_{w2r}}{r_t/r_r}\n",
    "$$"
   ]
  },
  {
   "cell_type": "code",
   "execution_count": 908,
   "metadata": {},
   "outputs": [
    {
     "name": "stdout",
     "output_type": "stream",
     "text": [
      "Tip Whirl Veloctity after nozzle = 527.61 m/s\n"
     ]
    }
   ],
   "source": [
    "Cw2t = Cw2r/tiproot\n",
    "\n",
    "print((\"Tip Whirl Veloctity after nozzle = %3.2f m/s\" % (Cw2t)))"
   ]
  },
  {
   "cell_type": "markdown",
   "metadata": {},
   "source": [
    "$$\n",
    "tan \\alpha_{2t} =\\frac{C_{w2t}}{C_{a2}}\n",
    "$$"
   ]
  },
  {
   "cell_type": "code",
   "execution_count": 909,
   "metadata": {},
   "outputs": [
    {
     "name": "stdout",
     "output_type": "stream",
     "text": [
      "Tip Alpha 2 = 45.51°\n"
     ]
    }
   ],
   "source": [
    "alpha2t = np.degrees(np.arctan(Cw2t/Ca2))\n",
    "\n",
    "print(\"Tip Alpha 2 = %3.2f°\" % (alpha2t))"
   ]
  },
  {
   "cell_type": "markdown",
   "metadata": {},
   "source": [
    "$$\n",
    "C_{2t}^2 = C_{a2}^2 + C_{w2t}^2\n",
    "$$"
   ]
  },
  {
   "cell_type": "code",
   "execution_count": 910,
   "metadata": {},
   "outputs": [
    {
     "name": "stdout",
     "output_type": "stream",
     "text": [
      "Tip C2 = 739.62 m/s\n"
     ]
    }
   ],
   "source": [
    "C2t = np.sqrt((Ca2**2)+(Cw2t**2))\n",
    "\n",
    "print(\"Tip C2 = %3.2f m/s\" % (C2t))"
   ]
  },
  {
   "cell_type": "markdown",
   "metadata": {},
   "source": [
    "$$\n",
    "\\Lambda_t =\\frac{T_{2t} -T_{3t}}{T_1-T_3} \\\\\n",
    "T =T_{0} -\\frac{{C}^2}{2 c_p} \\\\\n",
    "$$"
   ]
  },
  {
   "cell_type": "code",
   "execution_count": 911,
   "metadata": {},
   "outputs": [
    {
     "name": "stdout",
     "output_type": "stream",
     "text": [
      "T3t = 995.35 K\n",
      "T2t = 1111.74 K\n",
      "Degree of Reaction at the tip is 0.36\n"
     ]
    }
   ],
   "source": [
    "T3t = To3-((C3r**2)/(2*cp*1000))\n",
    "\n",
    "print(\"T3t = %3.2f K\" % (T3t))\n",
    "\n",
    "T2t = To2-((C2t**2)/(2*cp*1000))\n",
    "\n",
    "print(\"T2t = %3.2f K\" % (T2t))\n",
    "\n",
    "degreeofreactiontip = (T2t-T3t)/(To13drop)\n",
    "\n",
    "print(\"Degree of Reaction at the tip is %3.2f\" % (degreeofreactiontip))"
   ]
  },
  {
   "cell_type": "markdown",
   "metadata": {},
   "source": [
    "$$\n",
    "T_2'-T_{2r} =\\lambda_N \\frac{{C_{2r}}^2}{2 c_p} \\\\\n",
    "$$"
   ]
  },
  {
   "cell_type": "code",
   "execution_count": 912,
   "metadata": {},
   "outputs": [
    {
     "name": "stdout",
     "output_type": "stream",
     "text": [
      "T2prime = 728.20 K\n"
     ]
    }
   ],
   "source": [
    "bladetempchange = nozzleloss*((C2r**2)/(2*cp*1000))\n",
    "\n",
    "T2prime = T2-bladetempchange\n",
    "\n",
    "print(\"T2prime = %3.2f K\" % (T2prime))"
   ]
  },
  {
   "cell_type": "markdown",
   "metadata": {},
   "source": [
    "$$\n",
    "\\frac{p_{01}}{p_2}=(\\frac{T_{01}}{T_2'})^{\\gamma/\\gamma-1}\n",
    "$$"
   ]
  },
  {
   "cell_type": "code",
   "execution_count": 913,
   "metadata": {},
   "outputs": [
    {
     "name": "stdout",
     "output_type": "stream",
     "text": [
      "p2 = 0.43 bar\n",
      "p3 = 1.34 bar\n"
     ]
    }
   ],
   "source": [
    "p2 = 1/((1/po1)*((To1/T2prime)**(gammahot/(gammahot-1))))\n",
    "\n",
    "print(\"p2 = %3.2f bar\" % (p2))\n",
    "\n",
    "p3 = 1/((1/po3)*((To3/T3t)**(gammahot/(gammahot-1))))\n",
    "\n",
    "print(\"p3 = %3.2f bar\" % (p3))"
   ]
  },
  {
   "cell_type": "markdown",
   "metadata": {},
   "source": [
    "# 3\n",
    "The following data apply to a single-stage turbine designed on free vortex theory:\n",
    "\n",
    "| Item | Dimension |\n",
    "| --- | --- |\n",
    "| Mass flow $ \\dot{m} $ | 36 kg/s |\n",
    "| Inlet temperature $ T_{01} $ | 1200 K |\n",
    "| Inlet pressure $ p_{01} $ | 8.0 bar |\n",
    "| Temperature drop $ \\Delta T_{013} $ | 150 K |\n",
    "| Turbine isentropic efficiency $ \\eta_t $ | 0.90 |\n",
    "| Mean blade speed $ U_m $ | 320 m/s |\n",
    "| Rotational speed $ N $ | 250 rev/s |\n",
    "| Outlet velocity $ C_3 $ | 400 m/s |\n",
    "\n",
    "The outlet velocity is axial. Calculate the blade height and radius ratio of the annulus from the outlet conditions. \\\n",
    "The turbine is designed with a constant annulus area through the stage, i.e. with no flare. Assuming a nozzle loss coefficient $ \\lambda_N $ of 0.07, show that continuity is satisfied when the axial velocity at exit from the nozzles is 346 m/s. Thence calculate the inlet Mach number relative to the rotor blade at the root radius."
   ]
  },
  {
   "cell_type": "code",
   "execution_count": 914,
   "metadata": {},
   "outputs": [],
   "source": [
    "# Givens:\n",
    "\n",
    "mdot = 36 # kg/s\n",
    "To1 = 1200 # K\n",
    "po1 = 8.0 # bar\n",
    "To13drop = 150 # K\n",
    "isent = 0.90\n",
    "Um = 320 # m/s\n",
    "N = 250 # rev/s\n",
    "omega = N*2*np.pi\n",
    "C3 = 300 # m/s\n",
    "nozzleloss = 0.07\n",
    "\n",
    "# Assumptions:\n",
    "\n",
    "cp = 1.148"
   ]
  },
  {
   "cell_type": "markdown",
   "metadata": {},
   "source": [
    "$$\n",
    "U = \\omega r\n",
    "$$"
   ]
  },
  {
   "cell_type": "code",
   "execution_count": 915,
   "metadata": {},
   "outputs": [
    {
     "name": "stdout",
     "output_type": "stream",
     "text": [
      "The mean radius is 0.20 m\n"
     ]
    }
   ],
   "source": [
    "rm = Um/omega\n",
    "\n",
    "print(\"The mean radius is %3.2f m\" % (rm))"
   ]
  },
  {
   "cell_type": "markdown",
   "metadata": {},
   "source": [
    "$$\n",
    "\\eta_t = \\frac{T_{01} -T_{03}}{T_{01}[1-(\\frac{p_{03}}{p_{01}})^{\\gamma-1/\\gamma}]} \\\\\n",
    "\\eta_t T_{01}[1-(\\frac{p_{03}}{p_{01}})^{\\gamma-1/\\gamma}] = T_{01} -T_{03} \\\\\n",
    "(\\frac{p_{03}}{p_{01}})^{\\gamma-1/\\gamma} = 1-\\frac{T_{01} -T_{03}}{\\eta_t T_{01}} \\\\\n",
    "\\frac{p_{03}}{p_{01}} = (1-\\frac{T_{01} -T_{03}}{\\eta_t T_{01}})^{\\gamma/\\gamma-1} \\\\\n",
    "p_{03}= p_{01} (1-\\frac{T_{01} -T_{03}}{\\eta_t T_{01}})^{\\gamma/\\gamma-1}\n",
    "$$"
   ]
  },
  {
   "cell_type": "code",
   "execution_count": 916,
   "metadata": {},
   "outputs": [
    {
     "name": "stdout",
     "output_type": "stream",
     "text": [
      "To3 = 1050.00 K\n",
      "po3 = 4.38 bar\n"
     ]
    }
   ],
   "source": [
    "To3 = To1 - To13drop\n",
    "\n",
    "po3 = po1*(1-((To1-To3)/(isent*To1)))**(gammahot/(gammahot-1))\n",
    "\n",
    "print(\"To3 = %3.2f K\" % (To3))\n",
    "print(\"po3 = %3.2f bar\" % (po3))"
   ]
  },
  {
   "cell_type": "markdown",
   "metadata": {},
   "source": [
    "$$\n",
    "\\dot{m} = \\rho_3 A C_{a3} \\\\\n",
    "\\rho_3 = \\frac{p_3}{R T_3} \\\\\n",
    "T_3 = T_{03} -\\frac{C_{3}^2}{2c_p} \\\\\n",
    "p_3 = p_{03}[\\frac{T_3}{T_{03}}]^{\\gamma/\\gamma-1}\n",
    "$$"
   ]
  },
  {
   "cell_type": "code",
   "execution_count": 917,
   "metadata": {},
   "outputs": [
    {
     "name": "stdout",
     "output_type": "stream",
     "text": [
      "T3 = 1010.80 K\n",
      "p3 = 3.76 bar\n",
      "Stage Area = 0.0927 m^2\n"
     ]
    }
   ],
   "source": [
    "T3 = To3-((C3**2)/(2*cp*1000))\n",
    "p3 = po3*((T3/To3)**(gammahot/(gammahot-1)))\n",
    "\n",
    "print(\"T3 = %3.2f K\" % (T3))\n",
    "print(\"p3 = %3.2f bar\" % (p3))\n",
    "\n",
    "density3 = (p3*100000)/(287*T3)\n",
    "\n",
    "A3 = mdot/(density3*C3)\n",
    "\n",
    "print(\"Stage Area = %3.4f m^2\" % (A3))"
   ]
  },
  {
   "cell_type": "markdown",
   "metadata": {},
   "source": [
    "$$\n",
    "h = \\frac{A}{2 \\pi r_m}\n",
    "$$"
   ]
  },
  {
   "cell_type": "code",
   "execution_count": 918,
   "metadata": {},
   "outputs": [
    {
     "name": "stdout",
     "output_type": "stream",
     "text": [
      "The blade height is 0.0724 m\n"
     ]
    }
   ],
   "source": [
    "h = A3/(2*np.pi*rm)\n",
    "\n",
    "print(\"The blade height is %3.4f m\" % (h))"
   ]
  },
  {
   "cell_type": "markdown",
   "metadata": {},
   "source": [
    "$$\n",
    "\\frac{r_r}{r_t} = \\frac{r_m-(A_3/2)}{r_m+(A_3/2)}\n",
    "$$"
   ]
  },
  {
   "cell_type": "code",
   "execution_count": 919,
   "metadata": {},
   "outputs": [
    {
     "name": "stdout",
     "output_type": "stream",
     "text": [
      "The Hub-Tip ratio is 0.63\n"
     ]
    }
   ],
   "source": [
    "hubtipratio = (rm-(A3/2))/(rm+(A3/2))\n",
    "\n",
    "print(\"The Hub-Tip ratio is %3.2f\" % (hubtipratio))"
   ]
  }
 ],
 "metadata": {
  "kernelspec": {
   "display_name": "Python 3",
   "language": "python",
   "name": "python3"
  },
  "language_info": {
   "codemirror_mode": {
    "name": "ipython",
    "version": 3
   },
   "file_extension": ".py",
   "mimetype": "text/x-python",
   "name": "python",
   "nbconvert_exporter": "python",
   "pygments_lexer": "ipython3",
   "version": "3.12.0"
  }
 },
 "nbformat": 4,
 "nbformat_minor": 2
}
