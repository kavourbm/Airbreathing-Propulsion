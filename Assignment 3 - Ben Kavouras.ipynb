{
 "cells": [
  {
   "cell_type": "code",
   "execution_count": 17,
   "metadata": {},
   "outputs": [],
   "source": [
    "import numpy as np\n",
    "import matplotlib.pyplot as plt\n",
    "%matplotlib inline"
   ]
  },
  {
   "cell_type": "markdown",
   "metadata": {},
   "source": [
    "# 1 \n",
    "The following data refers to the eye of a single-sided impeller:\n",
    "\n",
    "| Item | Dimension |\n",
    "| --- | --- |\n",
    "| Inner Radius | 6.5 cm |\n",
    "| Outer Radius | 15.0 cm |\n",
    "| Mass Flow | 8 kg/s |\n",
    "| Ambient Conditions | 1.00 bar, 288 K |\n",
    "| Speed | 270 rev/s |\n",
    "\n",
    "Assuming no prewhirl and no losses in the intake duct calculate the blade inlet angle at root and tip of eye, and the Mach number at the tip of the eye."
   ]
  },
  {
   "cell_type": "markdown",
   "metadata": {},
   "source": [
    "$$\n",
    "\\beta_{1h} = arctan (\\frac{C_{a1}}{U_{1h}}) \\\\\n",
    "\\dot{m}_{1} = \\rho_{1} C_{a1} A_1 \\\\\n",
    "C_{a1} = \\frac{\\dot{m}_{1}}{\\rho_{1} A_1} \\\\\n",
    "A_1 = \\pi {r_{1h}}^2 - \\pi {r_{1t}}^2 \\\\\n",
    "U_{1h} = \\omega r_{1h}\n",
    "$$"
   ]
  },
  {
   "cell_type": "code",
   "execution_count": 18,
   "metadata": {},
   "outputs": [
    {
     "name": "stdout",
     "output_type": "stream",
     "text": [
      "The blade inlet angle at the root is 24.35°\n",
      "The blade inlet angle at the tip is 46.25°\n"
     ]
    }
   ],
   "source": [
    "r1t = 6.5*(10**(-2))\n",
    "r1h = 15*(10**(-2))\n",
    "\n",
    "A1 = (np.pi*(r1h**2))-(np.pi*(r1t**2))\n",
    "\n",
    "p = 1*100000 # pa\n",
    "R = 287\n",
    "T1 = 288\n",
    "\n",
    "density = p/(R*T1)\n",
    "mdot = 8\n",
    "\n",
    "Ca1 = mdot/(density*A1)\n",
    "\n",
    "omega = 270*(2*np.pi) # Rad/s\n",
    "U1h = omega*r1h\n",
    "B1h = np.degrees(np.arctan(Ca1/U1h))\n",
    "\n",
    "print(\"The blade inlet angle at the root is %3.2f°\" % (B1h))\n",
    "\n",
    "U1t = omega*r1t\n",
    "B1t = np.degrees(np.arctan(Ca1/U1t))\n",
    "\n",
    "print(\"The blade inlet angle at the tip is %3.2f°\" % (B1t))"
   ]
  },
  {
   "cell_type": "code",
   "execution_count": 19,
   "metadata": {},
   "outputs": [
    {
     "name": "stdout",
     "output_type": "stream",
     "text": [
      "The Mach number at the tip of the eye is 0.47\n"
     ]
    }
   ],
   "source": [
    "V1t = np.sqrt((Ca1**2)+(U1t**2))\n",
    "\n",
    "gammac = 1.4\n",
    "\n",
    "Mtip = V1t/(np.sqrt(gammac*R*T1))\n",
    "\n",
    "print(\"The Mach number at the tip of the eye is %3.2f\" % (Mtip))"
   ]
  },
  {
   "cell_type": "markdown",
   "metadata": {},
   "source": [
    "# 2\n",
    "A single-sided centrifugal compressor is to deliver 14 kg/s of air when operating at a pressure ratio of 4:1 and a speed of 200 rev/s. The inlet stagnation conditions may be taken as 288 K and 1.0 bar. Assuming a slip factor of 0.9, a power input factor of 1.04 and an overall isentropic efficiency of 0.80, estimate the overall diameter of the impeller. \\\n",
    "If the Mach number is not to exceed unity at the impeller tip, and 50% of the losses are assumed to occur in the impeller, find the minimum possible axial depth of the diffuser."
   ]
  },
  {
   "cell_type": "markdown",
   "metadata": {},
   "source": [
    "$$\n",
    "\\frac{p_{o3}}{p_{o1}} =[1+\\frac{\\eta_{c} \\psi \\sigma {U_{2}}^2}{c_{pa} T_{o1}}]^{\\frac{\\gamma}{\\gamma -1}} \\\\\n",
    "(\\frac{p_{o3}}{p_{o1}})^{\\frac{\\gamma -1}{\\gamma}} =1+\\frac{\\eta_{c} \\psi \\sigma {U_{2}}^2}{c_{pa} T_{o1}} \\\\\n",
    "((\\frac{p_{o3}}{p_{o1}})^{\\frac{\\gamma -1}{\\gamma}} -1)(c_{pa} T_{o1}) =\\eta_{c} \\psi \\sigma {U_{2}}^2 \\\\\n",
    "\\frac{((\\frac{p_{o3}}{p_{o1}})^{\\frac{\\gamma -1}{\\gamma}} -1)(c_{pa} T_{o1})}{\\eta_{c} \\psi \\sigma} ={U_{2}}^2 \\\\\n",
    "\\sqrt{\\frac{((\\frac{p_{o3}}{p_{o1}})^{\\frac{\\gamma -1}{\\gamma}} -1)(c_{pa} T_{o1})}{\\eta_{c} \\psi \\sigma}} =U_{2}\n",
    "$$"
   ]
  },
  {
   "cell_type": "code",
   "execution_count": 20,
   "metadata": {},
   "outputs": [
    {
     "name": "stdout",
     "output_type": "stream",
     "text": [
      "U2 = 13.70 m/s\n"
     ]
    }
   ],
   "source": [
    "pr = 4\n",
    "isoc = 0.8\n",
    "gamma = 1.4\n",
    "cpa = 1.004\n",
    "To1 = 288\n",
    "psi = 1.04\n",
    "sigma = 0.9\n",
    "\n",
    "U2 = np.sqrt(((((pr)**((gamma-1)/(gamma)))-1)*(cpa*To1))/(isoc*psi*sigma))\n",
    "\n",
    "print(\"U2 = %3.2f m/s\" % (U2))"
   ]
  },
  {
   "cell_type": "markdown",
   "metadata": {},
   "source": [
    "# 3\n",
    "An axial flow compressor stage has blade root, mean and tip velocities of 150, 200 and 250 m/s. The stage is to be designed for a stagnation temperature rise of 20 K and an axial veloctity of 150 m/s, both constant from root to tip. The work-done factor is 0.93. Assuming 50% reaction at mean radius, calculate the stage air angles at root, mean and tip and the degree of reaction at root and tip for a free vortex design. \\\n",
    "Also calculate the specific work done and pressure rise for the stage assuming $ \\eta_{s} =0.88 $"
   ]
  },
  {
   "cell_type": "code",
   "execution_count": null,
   "metadata": {},
   "outputs": [],
   "source": []
  },
  {
   "cell_type": "markdown",
   "metadata": {},
   "source": [
    "# 4\n",
    "An axial flow compressor stage has a mean radius $ r_m =0.6 $ m. The rotational speed of the rotor is $ \\omega =4075 $ RPM. The flow enters the rotor with axial and tangential flow components $ C_{a1} =155 $ m/s and $ C_{w1} =28 $ m/s. Assuming $ \\Lambda_{m} =0.5 $, $ \\alpha_3 =\\alpha_1 $ and $ C_a = $ constant through the stage, calculate: \n",
    "1. Rotor speed at the mean line\n",
    "2. All remaining parameters for the velocity triangles\n",
    "3. Rotor specific work at the mean line"
   ]
  },
  {
   "cell_type": "code",
   "execution_count": null,
   "metadata": {},
   "outputs": [],
   "source": []
  }
 ],
 "metadata": {
  "kernelspec": {
   "display_name": "Python 3",
   "language": "python",
   "name": "python3"
  },
  "language_info": {
   "codemirror_mode": {
    "name": "ipython",
    "version": 3
   },
   "file_extension": ".py",
   "mimetype": "text/x-python",
   "name": "python",
   "nbconvert_exporter": "python",
   "pygments_lexer": "ipython3",
   "version": "3.12.0"
  }
 },
 "nbformat": 4,
 "nbformat_minor": 2
}
