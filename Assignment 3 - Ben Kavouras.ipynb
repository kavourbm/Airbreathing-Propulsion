{
 "cells": [
  {
   "cell_type": "code",
   "execution_count": 40,
   "metadata": {},
   "outputs": [],
   "source": [
    "import numpy as np\n",
    "import matplotlib.pyplot as plt\n",
    "%matplotlib inline"
   ]
  },
  {
   "cell_type": "markdown",
   "metadata": {},
   "source": [
    "# 1 \n",
    "The following data refers to the eye of a single-sided impeller:\n",
    "\n",
    "| Item | Dimension |\n",
    "| --- | --- |\n",
    "| Inner Radius | 6.5 cm |\n",
    "| Outer Radius | 15.0 cm |\n",
    "| Mass Flow | 8 kg/s |\n",
    "| Ambient Conditions | 1.00 bar, 288 K |\n",
    "| Speed | 270 rev/s |\n",
    "\n",
    "Assuming no prewhirl and no losses in the intake duct calculate the blade inlet angle at root and tip of eye, and the Mach number at the tip of the eye."
   ]
  },
  {
   "cell_type": "markdown",
   "metadata": {},
   "source": [
    "$$\n",
    "\\beta_{1h} = arctan (\\frac{C_{a1}}{U_{1h}}) \\\\\n",
    "\\dot{m}_{1} = \\rho_{1} C_{a1} A_1 \\\\\n",
    "C_{a1} = \\frac{\\dot{m}_{1}}{\\rho_{1} A_1} \\\\\n",
    "A_1 = \\pi {r_{1h}}^2 - \\pi {r_{1t}}^2 \\\\\n",
    "U_{1h} = \\omega r_{1h}\n",
    "$$"
   ]
  },
  {
   "cell_type": "code",
   "execution_count": 41,
   "metadata": {},
   "outputs": [
    {
     "name": "stdout",
     "output_type": "stream",
     "text": [
      "The blade inlet angle at the root is 24.35°\n",
      "The blade inlet angle at the tip is 46.25°\n"
     ]
    }
   ],
   "source": [
    "r1t = 6.5*(10**(-2))\n",
    "r1h = 15*(10**(-2))\n",
    "\n",
    "A1 = (np.pi*(r1h**2))-(np.pi*(r1t**2))\n",
    "\n",
    "p = 1*100000 # pa\n",
    "R = 287\n",
    "T1 = 288\n",
    "\n",
    "density = p/(R*T1)\n",
    "mdot = 8\n",
    "\n",
    "Ca1 = mdot/(density*A1)\n",
    "\n",
    "omega = 270*(2*np.pi) # Rad/s\n",
    "U1h = omega*r1h\n",
    "B1h = np.degrees(np.arctan(Ca1/U1h))\n",
    "\n",
    "print(\"The blade inlet angle at the root is %3.2f°\" % (B1h))\n",
    "\n",
    "U1t = omega*r1t\n",
    "B1t = np.degrees(np.arctan(Ca1/U1t))\n",
    "\n",
    "print(\"The blade inlet angle at the tip is %3.2f°\" % (B1t))"
   ]
  },
  {
   "cell_type": "code",
   "execution_count": 42,
   "metadata": {},
   "outputs": [
    {
     "name": "stdout",
     "output_type": "stream",
     "text": [
      "The Mach number at the tip of the eye is 0.47\n"
     ]
    }
   ],
   "source": [
    "V1t = np.sqrt((Ca1**2)+(U1t**2))\n",
    "\n",
    "gammac = 1.4\n",
    "\n",
    "Mtip = V1t/(np.sqrt(gammac*R*T1))\n",
    "\n",
    "print(\"The Mach number at the tip of the eye is %3.2f\" % (Mtip))"
   ]
  }
 ],
 "metadata": {
  "kernelspec": {
   "display_name": "Python 3",
   "language": "python",
   "name": "python3"
  },
  "language_info": {
   "codemirror_mode": {
    "name": "ipython",
    "version": 3
   },
   "file_extension": ".py",
   "mimetype": "text/x-python",
   "name": "python",
   "nbconvert_exporter": "python",
   "pygments_lexer": "ipython3",
   "version": "3.11.3"
  }
 },
 "nbformat": 4,
 "nbformat_minor": 2
}
