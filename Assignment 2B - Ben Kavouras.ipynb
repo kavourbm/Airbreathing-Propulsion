{
 "cells": [
  {
   "cell_type": "code",
   "execution_count": 2,
   "metadata": {},
   "outputs": [],
   "source": [
    "import numpy as np\n",
    "import matplotlib.pyplot as plt\n",
    "%matplotlib inline"
   ]
  },
  {
   "cell_type": "markdown",
   "metadata": {},
   "source": [
    "# 1 <br>\n",
    "<br>\n",
    "Find propelling nozzle area required, the net thrust and the SFC <br>\n",
    "<br>\n",
    "\n",
    "| | |\n",
    "| --- | --- |\n",
    "| $$ \\eta_{\\infty c} $$ | 0.87 |\n",
    "| $$ \\eta_{\\infty t} $$ | 0.87 |\n",
    "| $$ \\eta_{i} $$ | 0.95 |\n",
    "| $$ \\eta_{j} $$ | 0.95 |\n",
    "| $$ \\eta_{m} $$ | 0.99 |\n",
    "| $$ \\Delta p_{b} $$ | 6% |\n",
    "| $$ \\eta_{b} $$ | 0.97 |\n",
    "\n",
    "<br>\n",
    "\n",
    "$$ \\frac{p2}{p1} = 8.0 \\\\\n",
    "T_a = 1200 K \\\\\n",
    "\\dot{m} = 15 kg/s \\\\\n",
    "C = 260 m/s \\\\\n",
    "h = 7,000 m \\\\\n",
    "$$"
   ]
  },
  {
   "cell_type": "markdown",
   "metadata": {},
   "source": [
    "$$\n",
    "\\frac{A_5}{\\dot{m}_a} =\\frac{1}{\\rho_5 C_5} =\\frac{R T_5}{\\rho_5 C_5}\n",
    "$$"
   ]
  },
  {
   "cell_type": "markdown",
   "metadata": {},
   "source": [
    "$$\n",
    "F= \\dot{m}_{a} (C_5 -C_a) + A_s (p_5 -p_a)\n",
    "$$"
   ]
  },
  {
   "cell_type": "markdown",
   "metadata": {},
   "source": [
    "# 2 <br>\n",
    "<br>\n",
    "Find propelling nozzle area required, the net thrust and the SFC <br>\n",
    "<br>\n",
    "\n",
    "| | |\n",
    "| --- | --- |\n",
    "| $$ \\eta_{\\infty c} $$ | 0.87 |\n",
    "| $$ \\eta_{\\infty t} $$ | 0.87 |\n",
    "| $$ \\eta_{i} $$ | 0.95 |\n",
    "| $$ \\eta_{j} $$ | 0.95 |\n",
    "| $$ \\eta_{m} $$ | 0.99 |\n",
    "| $$ \\Delta p_{b} $$ | 6% |\n",
    "| $$ \\eta_{b} $$ | 0.97 |\n",
    "\n",
    "<br>\n",
    "\n",
    "$$ \\frac{p2}{p1} = 8.0 \\\\\n",
    "T_a = 1200 K \\\\\n",
    "\\dot{m} = 15 kg/s \\\\\n",
    "C = 260 m/s \\\\\n",
    "h = 7,000 m \\\\\n",
    "$$"
   ]
  }
 ],
 "metadata": {
  "kernelspec": {
   "display_name": "Python 3",
   "language": "python",
   "name": "python3"
  },
  "language_info": {
   "codemirror_mode": {
    "name": "ipython",
    "version": 3
   },
   "file_extension": ".py",
   "mimetype": "text/x-python",
   "name": "python",
   "nbconvert_exporter": "python",
   "pygments_lexer": "ipython3",
   "version": "3.11.3"
  },
  "orig_nbformat": 4
 },
 "nbformat": 4,
 "nbformat_minor": 2
}
