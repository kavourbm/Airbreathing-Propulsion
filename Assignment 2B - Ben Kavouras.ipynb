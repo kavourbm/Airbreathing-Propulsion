{
 "cells": [
  {
   "cell_type": "code",
   "execution_count": 996,
   "metadata": {},
   "outputs": [],
   "source": [
    "import numpy as np\n",
    "import matplotlib.pyplot as plt\n",
    "%matplotlib inline"
   ]
  },
  {
   "cell_type": "markdown",
   "metadata": {},
   "source": [
    "# 1 <br>\n",
    "<br>\n",
    "Find propelling nozzle area required, the net thrust and the SFC <br>\n",
    "<br>\n",
    "\n",
    "| | |\n",
    "| --- | --- |\n",
    "| $$ \\eta_{\\infty c} $$ | 0.87 |\n",
    "| $$ \\eta_{\\infty t} $$ | 0.87 |\n",
    "| $$ \\eta_{i} $$ | 0.95 |\n",
    "| $$ \\eta_{j} $$ | 0.95 |\n",
    "| $$ \\eta_{m} $$ | 0.99 |\n",
    "| $$ \\Delta p_{b} $$ | 6% |\n",
    "| $$ \\eta_{b} $$ | 0.97 |\n",
    "\n",
    "<br>\n",
    "\n",
    "$$ \\frac{p2}{p1} = 8.0 \\\\\n",
    "T_{o3} = 1200 K \\\\\n",
    "\\dot{m} = 15 kg/s \\\\\n",
    "C_a = 260 m/s \\\\\n",
    "h = 7,000 m = 7 km \\\\\n",
    "$$"
   ]
  },
  {
   "cell_type": "markdown",
   "metadata": {},
   "source": [
    "$$\n",
    "\\delta = .4057 \\\\\n",
    "p_{std} = 101325 Pa (N/m^2) \\\\\n",
    "p_a = \\delta * p_{std} = .4057 * 101325 = 41107.55 Pa \\\\\n",
    "\\theta = .8423 \\\\\n",
    "T_{std} = 288.15 K \\\\\n",
    "T_a = \\theta * T_{std} = .8423 * 288.15 = 242.71 K \\\\\n",
    "\\rho = 1.225 kg/m^3 \\\\\n",
    "\\gamma = 1.4 \\\\\n",
    "c_{pc} = 1.005 kJ/kg K \\\\\n",
    "$$"
   ]
  },
  {
   "cell_type": "markdown",
   "metadata": {},
   "source": [
    "$$\n",
    "T_{oa} =T_{o1} =T_a +\\frac{C_{a}^2}{2 c_p} \\\\\n",
    "p_{o1} = (1+ \\eta_{i} \\frac{C_{a}^2}{2c_p T_a})^{\\frac{\\gamma}{\\gamma-1}}\n",
    "$$"
   ]
  },
  {
   "cell_type": "code",
   "execution_count": 997,
   "metadata": {},
   "outputs": [
    {
     "name": "stdout",
     "output_type": "stream",
     "text": [
      "To1 = 276.34 K\n",
      "po1 = 0.63 bar\n"
     ]
    }
   ],
   "source": [
    "# Inlet\n",
    "\n",
    "cpa = 1.005\n",
    "Ca = 260\n",
    "Ta = 242.71\n",
    "To1 = Ta+((Ca**2)/(2*1000*cpa))\n",
    "\n",
    "print(\"To1 = %6.2f K\" % (To1))\n",
    "\n",
    "gamma = 1.4\n",
    "ni = 0.95\n",
    "pa = .411\n",
    "po1 = pa*(1+(ni*((Ca**2)/(2*1000*cpa*Ta))))**(gamma/(gamma-1))\n",
    "\n",
    "print(\"po1 = %3.2f bar\" % (po1))"
   ]
  },
  {
   "cell_type": "markdown",
   "metadata": {},
   "source": [
    "$$\n",
    "\\eta_{c} =\\frac{(\\frac{p_{02}}{p_{01}})^{(\\gamma -1)/\\gamma}-1}{(\\frac{p_{02}}{p_{01}})^{(\\gamma -1)/\\gamma \\eta_{\\infty c}}-1}"
   ]
  },
  {
   "cell_type": "code",
   "execution_count": 998,
   "metadata": {},
   "outputs": [
    {
     "name": "stdout",
     "output_type": "stream",
     "text": [
      "Compressor Isentropic Efficiency = 0.83\n"
     ]
    }
   ],
   "source": [
    "# Compressor Efficiency\n",
    "\n",
    "polync = 0.87\n",
    "cpr = 8.0\n",
    "\n",
    "nc = (cpr**((gamma-1)/gamma)-1)/(cpr**((gamma-1)/(gamma*polync))-1)\n",
    "\n",
    "print(\"Compressor Isentropic Efficiency = %3.2f\" % (nc))"
   ]
  },
  {
   "cell_type": "markdown",
   "metadata": {},
   "source": [
    "$$\n",
    "p_{o2} = \\frac{p_{o2}}{p_{o1}} p_{o1} \\\\\n",
    "T_{o2} -T_{o1} =\\frac{T_{o1}}{\\eta_c}((\\frac{p_{o2}}{p_{o1}})^{\\frac{\\gamma-1}{\\gamma}}-1) \\\\\n",
    "\\frac{T_{o2}}{T_{o1}} =1+ \\frac{1}{\\eta_{c}}((\\frac{p_{o2}}{p_{o1}})^{\\frac{\\gamma-1}{\\gamma}}-1) \\\\\n",
    "T_{o2} = \\frac{T_{o2}}{T_{o1}} T_{o1} \\\\\n",
    "$$"
   ]
  },
  {
   "cell_type": "code",
   "execution_count": 999,
   "metadata": {},
   "outputs": [
    {
     "name": "stdout",
     "output_type": "stream",
     "text": [
      "Po2 = 5.07 bar\n",
      "To2 = 547.05 K\n"
     ]
    }
   ],
   "source": [
    "# Compressor\n",
    "\n",
    "po2 =  cpr*po1\n",
    "\n",
    "print(\"Po2 = %3.2f bar\" % (po2))\n",
    "\n",
    "T21r = 1+(1/nc)*((cpr)**((gamma-1)/gamma)-1)\n",
    "\n",
    "To2 = T21r*To1\n",
    "\n",
    "print(\"To2 = %3.2f K\" % (To2))"
   ]
  },
  {
   "cell_type": "markdown",
   "metadata": {},
   "source": [
    "$$\n",
    "p_{o3} = p_{o2} -\\Delta p_b p_{o2}\n",
    "$$"
   ]
  },
  {
   "cell_type": "code",
   "execution_count": 1000,
   "metadata": {},
   "outputs": [
    {
     "name": "stdout",
     "output_type": "stream",
     "text": [
      "po3 = 4.76 bar\n"
     ]
    }
   ],
   "source": [
    "# Burner\n",
    "\n",
    "deltapb = .06\n",
    "po3 = po2 - (deltapb*po2)\n",
    "\n",
    "print(\"po3 = %3.2f bar\" % (po3))"
   ]
  },
  {
   "cell_type": "markdown",
   "metadata": {},
   "source": [
    "$$\n",
    "W_t =\\frac{W_c}{\\eta_{m}} \\\\\n",
    "W_t =c_{pg} (T_{o3} -T_{o4}) \\\\\n",
    "W_c =c_{pa} (T_{o2} -T_{o1}) \\\\\n",
    "T_{o3} -T_{o4} =\\frac{c_{pa} (T_{o2} -T_{o1})}{c_{pg} \\eta_{m}} \\\\\n",
    "T_{o4} =T_{o3} -\\frac{c_{pa} (T_{o2} -T_{o1})}{c_{pg} \\eta_{m}} \\\\\n",
    "\\frac{m-1}{m} =\\eta_{\\infty t} (\\gamma-1)/\\gamma \\\\\n",
    "\\frac{m}{m-1} =\\frac{1}{\\eta_{\\infty t} (\\gamma-1)/\\gamma} \\\\\n",
    "T_{o3} -T_{o4} =T_{o3} (1-(\\frac{p_{o4}}{p_{o3}})^{\\frac{m-1}{m}}) \\\\\n",
    "1- \\frac{T_{o3} -T_{o4}}{T_{o3}} =(\\frac{p_{o4}}{p_{o3}})^{\\frac{m-1}{m}} \\\\\n",
    "(1- \\frac{T_{o3} -T_{o4}}{T_{o3}})^{\\frac{m}{m-1}} = \\frac{p_{o4}}{p_{o3}} \\\\\n",
    "p_{o3} (1- \\frac{T_{o3} -T_{o4}}{T_{o3}})^{\\frac{m}{m-1}} = p_{o4} \\\\\n",
    "p_{o4} =p_{o3} (1- \\frac{T_{o3} -T_{o4}}{T_{o3}})^{\\frac{1}{\\eta_{\\infty t} (\\gamma-1)/\\gamma}}\n",
    "$$"
   ]
  },
  {
   "cell_type": "code",
   "execution_count": 1001,
   "metadata": {},
   "outputs": [
    {
     "name": "stdout",
     "output_type": "stream",
     "text": [
      "To4 = 960.62 K\n",
      "po4 = 1.70 bar\n"
     ]
    }
   ],
   "source": [
    "# Turbine\n",
    "\n",
    "To3 = 1200\n",
    "nm = 0.99\n",
    "cpg = 1.148\n",
    "\n",
    "To4 = To3 - ((cpa*(To2-To1))/(cpg*nm))\n",
    "\n",
    "print(\"To4 = %3.2f K\" % (To4))\n",
    "\n",
    "polynt = 0.87\n",
    "gammahot = 1.33\n",
    "\n",
    "po4 = po3*(1-((To3-To4)/To3))**(1/(polynt*((gammahot-1)/gammahot)))\n",
    "\n",
    "print(\"po4 = %3.2f bar\" % (po4))"
   ]
  },
  {
   "cell_type": "markdown",
   "metadata": {},
   "source": [
    "$$\n",
    "(\\frac{p_o}{p})_{c} =\\frac{1}{(1-\\frac{1}{\\eta_{j}} (\\frac{\\gamma -1}{\\gamma +1}))^{\\frac{\\gamma}{\\gamma -1}}}\n",
    "$$"
   ]
  },
  {
   "cell_type": "code",
   "execution_count": 1002,
   "metadata": {},
   "outputs": [
    {
     "name": "stdout",
     "output_type": "stream",
     "text": [
      "The Nozzle Pressure Ratio is 4.14\n",
      "(po/p)crit = 1.92, The Nozzle is Choked\n"
     ]
    }
   ],
   "source": [
    "# Nozzle\n",
    "\n",
    "npr = po4/pa\n",
    "\n",
    "print(\"The Nozzle Pressure Ratio is %3.2f\" % (npr))\n",
    "\n",
    "nj = 0.95\n",
    "\n",
    "pcrit = 1/((1-(1/nj)*((gammahot-1)/(gammahot+1)))**(gammahot/(gammahot-1)))\n",
    "\n",
    "print(\"(po/p)crit = %3.2f, The Nozzle is Choked\" % (pcrit))"
   ]
  },
  {
   "cell_type": "markdown",
   "metadata": {},
   "source": [
    "$$\n",
    "p_5 = p_{o4} \\frac{1}{(\\frac{p_o}{p})_c} \\\\\n",
    "(\\frac{T_o}{T})_c =1+\\frac{\\gamma -1}{2} \\\\\n",
    "T_5 =T_{o4} \\frac{1}{(\\frac{T_o}{T})_c}\n",
    "$$"
   ]
  },
  {
   "cell_type": "code",
   "execution_count": 1003,
   "metadata": {},
   "outputs": [
    {
     "name": "stdout",
     "output_type": "stream",
     "text": [
      "p5 = 0.89 bar\n",
      "T5 = 824.56 K\n"
     ]
    }
   ],
   "source": [
    "M5 = 1\n",
    "\n",
    "p5 = po4 *(1/(pcrit))\n",
    "\n",
    "print(\"p5 = %3.2f bar\" % (p5))\n",
    "\n",
    "T5 = To4*(2/(gammahot+1))\n",
    "\n",
    "print(\"T5 = %3.2f K\" % (T5))"
   ]
  },
  {
   "cell_type": "markdown",
   "metadata": {},
   "source": [
    "$$\n",
    "\\rho_5 =\\frac{p_5}{R T_5} \\\\\n",
    "C_5 =M_5 \\sqrt{\\gamma R T_5} \\\\\n",
    "$$"
   ]
  },
  {
   "cell_type": "code",
   "execution_count": 1004,
   "metadata": {},
   "outputs": [
    {
     "name": "stdout",
     "output_type": "stream",
     "text": [
      "The Density at the Nozzle = 0.37 kg/m^3\n",
      "The Exit Velocity is 561.02 m/s\n"
     ]
    }
   ],
   "source": [
    "R = .287\n",
    "\n",
    "kpa5 = p5*100\n",
    "\n",
    "density5 = kpa5/(R*T5)\n",
    "\n",
    "print(\"The Density at the Nozzle = %3.2f kg/m^3\" % (density5))\n",
    "\n",
    "C5 = M5*np.sqrt(gammahot*1000*R*T5)\n",
    "\n",
    "print(\"The Exit Velocity is %3.2f m/s\" % (C5))"
   ]
  },
  {
   "cell_type": "markdown",
   "metadata": {},
   "source": [
    "$$\n",
    "F= \\dot{m}_{a} (C_5 -C_a) + A_5 (p_5 -p_a) \\\\\n",
    "\\frac{A_5}{\\dot{m}_{a}} =\\frac{R T_5}{p_5 C_5} \\\\\n",
    "\\frac{F_5}{\\dot{m}} =(C_5 -C_a) +\\frac{p_5 - p_a}{\\rho_{5} C_5} \\\\\n",
    "f_{actual} =\\frac{f_{ideal}}{\\eta_{b}} \\\\\n",
    "SFC =\\frac{f_{actual}}{F_5} \\\\\n",
    "A_5 = \\frac{F-\\dot{m}_{a} (C_5-C_a)}{p_5-p_a}\n",
    "$$"
   ]
  },
  {
   "cell_type": "code",
   "execution_count": 1005,
   "metadata": {},
   "outputs": [
    {
     "name": "stdout",
     "output_type": "stream",
     "text": [
      "The Thrust is 4518.71 N\n",
      "The Nozzle Area Required is 0.07 m^2\n",
      "The Specific Fuel Consumption is 0.24 kg/hr*N\n"
     ]
    }
   ],
   "source": [
    "kpaa = pa*100\n",
    "\n",
    "F5 = (C5-Ca)+((kpa5-kpaa)/(density5*C5))\n",
    "\n",
    "thrust = F5*15\n",
    "\n",
    "print(\"The Thrust is %3.2f N\" % (thrust))\n",
    "\n",
    "A5 = (thrust-(15*(C5-Ca)))/(kpa5-kpaa)\n",
    "\n",
    "print(\"The Nozzle Area Required is %3.2f m^2\" % (A5))\n",
    "\n",
    "fideal = 0.0194\n",
    "\n",
    "nb = 0.97\n",
    "\n",
    "factual = fideal/nb\n",
    "\n",
    "SFC = (factual*3600)/F5\n",
    "\n",
    "print(\"The Specific Fuel Consumption is %3.2f kg/hr*N\" % (SFC))"
   ]
  },
  {
   "cell_type": "markdown",
   "metadata": {},
   "source": [
    "$$\n",
    "\\frac{A_5}{\\dot{m}_a} =\\frac{1}{\\rho_5 C_5} =\\frac{R T_5}{\\rho_5 C_5}\n",
    "$$"
   ]
  },
  {
   "cell_type": "markdown",
   "metadata": {},
   "source": [
    "# 2 <br>\n",
    "<br>\n",
    "Find propelling nozzle area required, the net thrust and the SFC, assuming isentropic convergent nozzle, assuming isenstropic convergent-divergent nozzle <br>\n",
    "<br>\n",
    "\n",
    "$$\n",
    "p_a = 1.01 bar \\\\\n",
    "T_a = 288 K \\\\\n",
    "p_{o7} = 3.8 bar \\\\\n",
    "T_{o7} = 1000 K \\\\\n",
    "\\dot{m} = 23 kg/s \\\\\n",
    "$$"
   ]
  },
  {
   "cell_type": "markdown",
   "metadata": {},
   "source": [
    "$$\n",
    "p_9 =\\frac{p_{o7}}{(1+\\frac{\\gamma-1}{2})^{\\frac{\\gamma}{\\gamma -1}}} \\\\\n",
    "T_9 =\\frac{T_{o7}}{(1+\\frac{\\gamma-1}{2})}\n",
    "$$"
   ]
  },
  {
   "cell_type": "code",
   "execution_count": 1006,
   "metadata": {},
   "outputs": [
    {
     "name": "stdout",
     "output_type": "stream",
     "text": [
      "p9 = 0.89\n",
      "T9 = 858.37\n"
     ]
    }
   ],
   "source": [
    "# Convergent Nozzle\n",
    "\n",
    "po7 = 3.8\n",
    "To7 = 1000\n",
    "\n",
    "p9 = po7/((1+((gammahot-1)/2))**(gammahot/(gammahot-1)))\n",
    "\n",
    "print(\"p9 = %3.2f\" % (p5))\n",
    "\n",
    "T9 = To7/(1+((gammahot-1)/2))\n",
    "\n",
    "print(\"T9 = %3.2f\" % (T9))"
   ]
  },
  {
   "cell_type": "markdown",
   "metadata": {},
   "source": [
    "$$\n",
    "\\rho_9 =\\frac{p_9}{R T_9} \\\\\n",
    "C_9 =M_9 \\sqrt{\\gamma R T_9} \\\\\n",
    "$$"
   ]
  },
  {
   "cell_type": "code",
   "execution_count": 1007,
   "metadata": {},
   "outputs": [
    {
     "name": "stdout",
     "output_type": "stream",
     "text": [
      "The Density at the Nozzle = 0.83 kg/m^3\n",
      "The Exit Velocity is 572.41 m/s\n"
     ]
    }
   ],
   "source": [
    "M9 = 1\n",
    "\n",
    "kpa9 = p9*100\n",
    "\n",
    "density9 = kpa9/(R*T9)\n",
    "\n",
    "print(\"The Density at the Nozzle = %3.2f kg/m^3\" % (density9))\n",
    "\n",
    "C9 = M9*np.sqrt(gammahot*1000*R*T9)\n",
    "\n",
    "print(\"The Exit Velocity is %3.2f m/s\" % (C9))"
   ]
  },
  {
   "cell_type": "markdown",
   "metadata": {},
   "source": [
    "$$\n",
    "F= \\dot{m}_{a} (C_9 -C_a) + A_9 (p_9 -p_a) \\\\\n",
    "\\frac{A_9}{\\dot{m}_{a}} =\\frac{R T_9}{p_9 C_9} \\\\\n",
    "\\frac{F_9}{\\dot{m}} =(C_9 -C_a) +\\frac{p_9 - p_a}{\\rho_{9} C_9} \\\\\n",
    "f_{actual} =\\frac{f_{ideal}}{\\eta_{b}} \\\\\n",
    "SFC =\\frac{f_{actual}}{F_9} \\\\\n",
    "A_5 = \\frac{F-\\dot{m}_{a} (C_9-C_a)}{p_9-p_a}\n",
    "$$"
   ]
  },
  {
   "cell_type": "code",
   "execution_count": 1008,
   "metadata": {},
   "outputs": [
    {
     "name": "stdout",
     "output_type": "stream",
     "text": [
      "The Thrust is 8589.36 N\n",
      "The Nozzle Area Required is 0.03 m^2\n",
      "The Specific Fuel Consumption is 0.13 kg/hr*N\n"
     ]
    }
   ],
   "source": [
    "pa = 1.01\n",
    "\n",
    "Ca = 0\n",
    "\n",
    "kpaa = pa*100\n",
    "\n",
    "F9 = (C9-Ca)+((kpa9-kpaa)/(density9*C9))\n",
    "\n",
    "thrust = F9*15\n",
    "\n",
    "print(\"The Thrust is %3.2f N\" % (thrust))\n",
    "\n",
    "A9 = (thrust-(15*(C9-Ca)))/(kpa9-kpaa)\n",
    "\n",
    "print(\"The Nozzle Area Required is %3.2f m^2\" % (A9))\n",
    "\n",
    "fideal = 0.0194\n",
    "\n",
    "nb = 0.97\n",
    "\n",
    "factual = fideal/nb\n",
    "\n",
    "SFC = (factual*3600)/F9\n",
    "\n",
    "print(\"The Specific Fuel Consumption is %3.2f kg/hr*N\" % (SFC))"
   ]
  },
  {
   "cell_type": "code",
   "execution_count": 1009,
   "metadata": {},
   "outputs": [],
   "source": [
    "# Divergent Nozzle (reusing values from above for station 8)\n",
    "p8 = p9\n",
    "T8 = T9\n",
    "M8 = M9\n",
    "kpa8 = kpa9 # The pressure remains constant across the nozzle\n",
    "desnity8 = density9\n",
    "C8 = C9"
   ]
  },
  {
   "cell_type": "markdown",
   "metadata": {},
   "source": [
    "# 3 <br>\n",
    "<br>\n",
    "Find propelling nozzle area required, the net thrust and the SFC <br>\n",
    "<br>\n",
    "\n",
    "| | |\n",
    "| --- | --- |\n",
    "| $$ \\eta_{\\infty c} $$ | 0.90 |\n",
    "| $$ \\eta_{\\infty t} $$ | 0.90 |\n",
    "| $$ \\eta_{i} $$ | 0.95 |\n",
    "| BR | 6.2 |\n",
    "| Fan PR | 1.55 |\n",
    "| Overall PR | 34 |\n",
    "| $$ \\Delta p_{b} $$ | 6% |\n",
    "\n",
    "<br>\n",
    "\n",
    "$$\n",
    "T_{o4} = 1350 K \\\\\n",
    "\\dot{m} = 220 kg/s \\\\\n",
    "M_a = 0.85 \\\\\n",
    "h = 11,000 m = 11 km \\\\\n",
    "$$"
   ]
  },
  {
   "cell_type": "markdown",
   "metadata": {},
   "source": [
    "$$\n",
    "\\delta = .2240 \\\\\n",
    "p_{std} = 101325 Pa (N/m^2) \\\\\n",
    "p_a = \\delta * p_{std} = .2240 * 101325 = 22696.80 Pa \\\\\n",
    "\\theta = .7523 \\\\\n",
    "T_{std} = 288.15 K \\\\\n",
    "T_a = \\theta * T_{std} = .7523 * 288.15 = 216.78 K \\\\\n",
    "\\rho = 1.225 kg/m^3 \\\\\n",
    "\\gamma_{c} = 1.4 \\\\\n",
    "\\gamma_{h} = 1.33 \\\\\n",
    "c_{pc} = 1.005 kJ/kg K \\\\\n",
    "$$"
   ]
  },
  {
   "cell_type": "markdown",
   "metadata": {},
   "source": [
    "$$\n",
    "\\frac{n-1}{n}=\\frac{1}{\\eta_{\\infty c}} \\frac{\\gamma_{c}-1}{\\gamma_{c}} \\\\\n",
    "\\frac{m-1}{m}=\\eta_{\\infty t} \\frac{\\gamma_{h}-1}{\\gamma_{h}} \\\\\n",
    "$$"
   ]
  },
  {
   "cell_type": "code",
   "execution_count": 1010,
   "metadata": {},
   "outputs": [],
   "source": [
    "polyc = 0.9\n",
    "polyt = 0.9\n",
    "\n",
    "n = (1/polyc)*((gamma-1)/gamma)\n",
    "m = polyt*((gammahot-1)/gammahot) "
   ]
  },
  {
   "cell_type": "markdown",
   "metadata": {},
   "source": [
    "$$\n",
    "T_{o1} = T_a \\\\\n",
    "\\frac{T_{o2}}{T_{o1}} =(\\frac{p_{o2}}{p_{o1}})^(\\frac{n-1}{n}) \\\\\n",
    "T_{o2} =T_{o1} (\\frac{p_{o2}}{p_{o1}})^(\\frac{n-1}{n}) \\\\\n",
    "$$"
   ]
  },
  {
   "cell_type": "code",
   "execution_count": 1011,
   "metadata": {},
   "outputs": [
    {
     "name": "stdout",
     "output_type": "stream",
     "text": [
      "To2 = 249.14 K\n",
      "po2 = 0.35 bar\n"
     ]
    }
   ],
   "source": [
    "# Fan\n",
    "\n",
    "To1 = 216.78\n",
    "fpr = 1.55\n",
    "po1 = 22696.80/100000\n",
    "\n",
    "To2 = To1*(fpr**n)\n",
    "\n",
    "print(\"To2 = %3.2f K\" % (To2))\n",
    "\n",
    "po2 = po1*fpr\n",
    "\n",
    "print(\"po2 = %3.2f bar\" % (po2))"
   ]
  },
  {
   "cell_type": "markdown",
   "metadata": {},
   "source": [
    "$$\n",
    "(\\frac{p_o}{p})_{c} =\\frac{1}{(1-\\frac{1}{\\eta_{j}} (\\frac{\\gamma -1}{\\gamma +1}))^{\\frac{\\gamma}{\\gamma -1}}}\n",
    "$$"
   ]
  },
  {
   "cell_type": "code",
   "execution_count": 1012,
   "metadata": {},
   "outputs": [
    {
     "name": "stdout",
     "output_type": "stream",
     "text": [
      "(po/p)crit = 1.96, The Fan Nozzle is Not Choked\n"
     ]
    }
   ],
   "source": [
    "nj = 0.95\n",
    "\n",
    "pfancrit = 1/((1-(1/nj)*((gamma-1)/(gamma+1)))**(gamma/(gamma-1)))\n",
    "\n",
    "print(\"(po/p)crit = %3.2f, The Fan Nozzle is Not Choked\" % (pfancrit))"
   ]
  },
  {
   "cell_type": "code",
   "execution_count": 1013,
   "metadata": {},
   "outputs": [
    {
     "name": "stdout",
     "output_type": "stream",
     "text": [
      "The air velocity at the inlet is 250.86 m/s\n"
     ]
    }
   ],
   "source": [
    "# Mach to Velocity\n",
    "\n",
    "ca = np.sqrt(gamma*287*To1)\n",
    "\n",
    "Ma = .85\n",
    "\n",
    "Ca = ca*Ma\n",
    "\n",
    "print(\"The air velocity at the inlet is %3.2f m/s\" % (Ca))"
   ]
  },
  {
   "cell_type": "markdown",
   "metadata": {},
   "source": [
    "$$\n",
    "\\dot{m}_{c} =\\frac{\\dot{m} B}{B+1} \\\\\n",
    "\\dot{m}_{h} =\\frac{\\dot{m}}{B+1} \\\\\n",
    "$$"
   ]
  },
  {
   "cell_type": "code",
   "execution_count": 1014,
   "metadata": {},
   "outputs": [
    {
     "name": "stdout",
     "output_type": "stream",
     "text": [
      "The cold air mass flow rate is 189.44 kg/s\n",
      "The hot air mass flow rate is 30.56 kg/s\n"
     ]
    }
   ],
   "source": [
    "# Fan Nozzle\n",
    "\n",
    "bypass = 6.2\n",
    "mfr = 220\n",
    "\n",
    "mdotc = (mfr*bypass)/(bypass+1)\n",
    "mdoth = mfr/(bypass+1)\n",
    "\n",
    "print(\"The cold air mass flow rate is %3.2f kg/s\" % (mdotc))\n",
    "print(\"The hot air mass flow rate is %3.2f kg/s\" % (mdoth))"
   ]
  },
  {
   "cell_type": "markdown",
   "metadata": {},
   "source": [
    "$$\n",
    "T_{o8} =T_{o2} \\\\\n",
    "p_{o8} =p_{o2} \\\\\n",
    "p_{8} =p_a \\\\\n",
    "T_{o8} -T_8 =\\eta_{j} T_{o8} (1-(\\frac{p_8}{p_{o8}})^{\\frac{\\gamma_{c} -1}{\\gamma_{c}}}) \\\\\n",
    "T_8 =-\\eta_{j} T_{o8} (1-(\\frac{p_8}{p_{o8}})^{\\frac{\\gamma_{c} -1}{\\gamma_{c}}}) +T_{o8}\\\\\n",
    "$$"
   ]
  },
  {
   "cell_type": "code",
   "execution_count": 1015,
   "metadata": {},
   "outputs": [
    {
     "name": "stdout",
     "output_type": "stream",
     "text": [
      "T8 = 221.28 K\n"
     ]
    }
   ],
   "source": [
    "To8 = To2\n",
    "po8 = po2\n",
    "p8 = po1\n",
    "\n",
    "T8 = To8-(nj*To8*(1-(p8/po8)**((gamma-1)/gamma)))\n",
    "\n",
    "print(\"T8 = %3.2f K\" % (T8))"
   ]
  },
  {
   "cell_type": "markdown",
   "metadata": {},
   "source": [
    "$$\n",
    "M_8 =\\sqrt{(\\frac{p_{o8}}{p_8})^{\\frac{\\gamma_{c} -1}{\\gamma_{c}}} -1 \\frac{2}{\\gamma_{c} -1}} \\\\\n",
    "C_8 =M_8 \\sqrt{\\gamma_{c} RT_8} \\\\\n",
    "F = \\dot{m}_{c} C_8\n",
    "$$"
   ]
  },
  {
   "cell_type": "code",
   "execution_count": 1016,
   "metadata": {},
   "outputs": [
    {
     "name": "stdout",
     "output_type": "stream",
     "text": [
      "The Fan Exit Velocity is 243.52 m/s\n",
      "The Thrust Produced by the Fan is 46133.08 N\n"
     ]
    }
   ],
   "source": [
    "M8 = np.sqrt((((po8/p8)**((gamma-1)/gamma))-1)*(2/(gamma-1)))\n",
    "\n",
    "C8 = M8*np.sqrt(gamma*287*T8)\n",
    "\n",
    "print(\"The Fan Exit Velocity is %3.2f m/s\" % (C8))\n",
    "\n",
    "fanthrust = mdotc * C8\n",
    "\n",
    "print(\"The Thrust Produced by the Fan is %3.2f N\" % (fanthrust))"
   ]
  },
  {
   "cell_type": "markdown",
   "metadata": {},
   "source": [
    "$$\n",
    "\\frac{p_{o3}}{p_{o2}} =\\frac{p_{o3}}{p_{o1}} /\\frac{p_{o2}}{p_{o1}}\n",
    "$$"
   ]
  },
  {
   "cell_type": "code",
   "execution_count": 1017,
   "metadata": {},
   "outputs": [],
   "source": [
    "cpr = 34/1.55"
   ]
  },
  {
   "cell_type": "markdown",
   "metadata": {},
   "source": [
    "$$\n",
    "T_{o3} =T_{o2}(\\frac{p_{o3}}{p_{o2}})^{\\frac{n-1}{n}}\n",
    "$$"
   ]
  },
  {
   "cell_type": "code",
   "execution_count": 1018,
   "metadata": {},
   "outputs": [
    {
     "name": "stdout",
     "output_type": "stream",
     "text": [
      "To3 = 664.05 K\n",
      "po3 = 7.72 bar\n"
     ]
    }
   ],
   "source": [
    "# HPC\n",
    "\n",
    "To3 = To2*((cpr)**n)\n",
    "\n",
    "print(\"To3 = %3.2f K\" % (To3))\n",
    "\n",
    "po3 = cpr*po2\n",
    "\n",
    "print(\"po3 = %3.2f bar\" % (po3))"
   ]
  },
  {
   "cell_type": "code",
   "execution_count": 1019,
   "metadata": {},
   "outputs": [
    {
     "name": "stdout",
     "output_type": "stream",
     "text": [
      "po4 = 7.25 bar\n"
     ]
    }
   ],
   "source": [
    "# Burner\n",
    "\n",
    "deltapb = 0.06\n",
    "To4 = 1350\n",
    "\n",
    "po4 = po3-(po3*deltapb)\n",
    "\n",
    "print(\"po4 = %3.2f bar\" % (po4))"
   ]
  },
  {
   "cell_type": "markdown",
   "metadata": {},
   "source": [
    "$$\n",
    "\\eta_{m} \\dot{m}_{h} c_{pg} (T_{o4} -T_{o5}) =\\dot{m}_{h} c_{pa} (T_{o3} -T_{o2}) \\\\\n",
    "T_{o5} =T_{o4} -\\frac{\\dot{m}_{h} c_{pa} (T_{o3} -T_{o2})}{\\eta_{m} \\dot{m}_{h} c_{pg}}\n",
    "$$"
   ]
  },
  {
   "cell_type": "code",
   "execution_count": 1020,
   "metadata": {},
   "outputs": [
    {
     "name": "stdout",
     "output_type": "stream",
     "text": [
      "To5 = 967.65 K\n"
     ]
    }
   ],
   "source": [
    "# HPT\n",
    "\n",
    "cpg = 1.148\n",
    "nm = 0.95\n",
    "\n",
    "To5 = To4-((mdoth*cpa*(To3-To2))/(nm*mdoth*cpg))\n",
    "\n",
    "print(\"To5 = %3.2f K\" % (To5))"
   ]
  },
  {
   "cell_type": "markdown",
   "metadata": {},
   "source": [
    "$$\n",
    "\\frac{p_{o5}}{p_{o4}} =(\\frac{T_{o5}}{T_{o4}})^{\\frac{m-1}{m}} \\\\\n",
    "p_{o5} =p_{o4} (\\frac{T_{o5}}{T_{o4}})^{\\frac{m-1}{m}} \\\\\n",
    "$$"
   ]
  },
  {
   "cell_type": "code",
   "execution_count": 1021,
   "metadata": {},
   "outputs": [
    {
     "name": "stdout",
     "output_type": "stream",
     "text": [
      "po5 = 6.73 bar\n"
     ]
    }
   ],
   "source": [
    "po5 = po4*((To5/To4)**m)\n",
    "\n",
    "print(\"po5 = %3.2f bar\" % (po5))"
   ]
  },
  {
   "cell_type": "code",
   "execution_count": 1022,
   "metadata": {},
   "outputs": [
    {
     "name": "stdout",
     "output_type": "stream",
     "text": [
      "To6 = 937.83 K\n",
      "po6 = 6.69 bar\n"
     ]
    }
   ],
   "source": [
    "# LPT\n",
    "\n",
    "To6 = To5-((mdoth*cpa*(To2-To1))/(nm*mdoth*cpg))\n",
    "\n",
    "print(\"To6 = %3.2f K\" % (To6))\n",
    "\n",
    "po6 = po5*((To6/To5)**m)\n",
    "\n",
    "print(\"po6 = %3.2f bar\" % (po6))"
   ]
  },
  {
   "cell_type": "code",
   "execution_count": 1023,
   "metadata": {},
   "outputs": [
    {
     "name": "stdout",
     "output_type": "stream",
     "text": [
      "(po/p)crit = 1.92, The Turbine Nozzle is Not Choked\n"
     ]
    }
   ],
   "source": [
    "ptcrit = 1/((1-(1/nj)*((gammahot-1)/(gammahot+1)))**(gammahot/(gammahot-1)))\n",
    "\n",
    "print(\"(po/p)crit = %3.2f, The Turbine Nozzle is Not Choked\" % (ptcrit))"
   ]
  },
  {
   "cell_type": "markdown",
   "metadata": {},
   "source": [
    "$$\n",
    "T_{o6} -T_7 = \\eta_{j} T_{o6} (1-(\\frac{p_{7}}{p_{o6}})^{\\frac{\\gamma_{h}-1}{\\gamma_{h}}}) \\\\\n",
    "T_7 =T_{o6} -\\eta_{j} T_{o6} (1-(\\frac{p_{7}}{p_{o6}})^{\\frac{\\gamma_{h}-1}{\\gamma_{h}}}) \\\\\n",
    "p_{7} =p_a =p_{o1}\n",
    "$$"
   ]
  },
  {
   "cell_type": "code",
   "execution_count": 1024,
   "metadata": {},
   "outputs": [
    {
     "name": "stdout",
     "output_type": "stream",
     "text": [
      "T7 = 431.74 K\n"
     ]
    }
   ],
   "source": [
    "# Turbine Nozzle\n",
    "\n",
    "T7 = To6-(nj*To6*(1-((po1/po6)**((gammahot-1)/gammahot))))\n",
    "\n",
    "print(\"T7 = %3.2f K\" % (T7))"
   ]
  },
  {
   "cell_type": "markdown",
   "metadata": {},
   "source": [
    "$$\n",
    "\\frac{p_{o7}}{p_7} =(\\frac{T_o7}{T_7})^(\\frac{\\gamma_{h}}{\\gamma_{h} -1}) \\\\\n",
    "p_{o7} =p_7 (\\frac{T_o7}{T_7})^(\\frac{\\gamma_{h}}{\\gamma_{h} -1}) \\\\\n",
    "T_{o7} = T_{o6}\n",
    "$$"
   ]
  },
  {
   "cell_type": "code",
   "execution_count": 1025,
   "metadata": {},
   "outputs": [
    {
     "name": "stdout",
     "output_type": "stream",
     "text": [
      "po7 = 5.17 bar\n"
     ]
    }
   ],
   "source": [
    "po7 = po1*((To6/T7)**(gammahot/(gammahot-1)))\n",
    "\n",
    "print(\"po7 = %3.2f bar\" % (po7))"
   ]
  },
  {
   "cell_type": "markdown",
   "metadata": {},
   "source": [
    "$$\n",
    "M_7 =\\sqrt{((p_{o7})^{\\frac{\\gamma_{h} -1}{\\gamma_{h}}} -1)^{\\frac{2}{\\gamma_{h} -1}}} \\\\\n",
    "C_7 =M_7 \\sqrt{\\gamma_{h} R T_7}\n",
    "$$"
   ]
  },
  {
   "cell_type": "code",
   "execution_count": 1026,
   "metadata": {},
   "outputs": [
    {
     "name": "stdout",
     "output_type": "stream",
     "text": [
      "The Turbine Nozzle Exit Velocity is 50.75 m/s\n",
      "The Thrust Produced by the Turbine is 1550.73 N\n",
      "The Total Thrust Produced by the Engine is 47683.80 N\n"
     ]
    }
   ],
   "source": [
    "M7 = np.sqrt((((po7)**((gammahot-1)/gammahot))-1)**(2/(gammahot-1)))\n",
    "\n",
    "C7 = M7*np.sqrt(gammahot*287*T7)\n",
    "\n",
    "print(\"The Turbine Nozzle Exit Velocity is %3.2f m/s\" % (C7))\n",
    "\n",
    "turbinethrust = mdoth*C7\n",
    "\n",
    "print(\"The Thrust Produced by the Turbine is %3.2f N\" % (turbinethrust))\n",
    "print(\"The Total Thrust Produced by the Engine is %3.2f N\" % (fanthrust+turbinethrust))"
   ]
  },
  {
   "cell_type": "code",
   "execution_count": 1027,
   "metadata": {},
   "outputs": [
    {
     "name": "stdout",
     "output_type": "stream",
     "text": [
      "The Specific Fuel Consumption is 0.05 kg/hr*N\n"
     ]
    }
   ],
   "source": [
    "mf = 0.0223*mdoth*3600\n",
    "SFC = mf/(fanthrust+turbinethrust)\n",
    "\n",
    "print(\"The Specific Fuel Consumption is %3.2f kg/hr*N\" % (SFC))"
   ]
  },
  {
   "cell_type": "markdown",
   "metadata": {},
   "source": [
    "I would further increase the bypass ratio, as the fan seems to generate a more thrust with a decrease in SFC."
   ]
  }
 ],
 "metadata": {
  "kernelspec": {
   "display_name": "Python 3",
   "language": "python",
   "name": "python3"
  },
  "language_info": {
   "codemirror_mode": {
    "name": "ipython",
    "version": 3
   },
   "file_extension": ".py",
   "mimetype": "text/x-python",
   "name": "python",
   "nbconvert_exporter": "python",
   "pygments_lexer": "ipython3",
   "version": "3.11.5"
  },
  "orig_nbformat": 4
 },
 "nbformat": 4,
 "nbformat_minor": 2
}
